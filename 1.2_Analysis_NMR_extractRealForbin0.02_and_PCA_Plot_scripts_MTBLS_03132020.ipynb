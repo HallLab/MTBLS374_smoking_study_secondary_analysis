{
 "cells": [
  {
   "cell_type": "code",
   "execution_count": 1,
   "metadata": {},
   "outputs": [
    {
     "name": "stderr",
     "output_type": "stream",
     "text": [
      "Loading required package: usethis\n",
      "\n",
      "Loading required package: ggplot2\n",
      "\n",
      "Loading required package: plyr\n",
      "\n",
      "Loading required package: scales\n",
      "\n",
      "Loading required package: grid\n",
      "\n"
     ]
    }
   ],
   "source": [
    "library(devtools)\n",
    "library(ggbiplot)\n",
    "library(stringr)"
   ]
  },
  {
   "cell_type": "markdown",
   "metadata": {},
   "source": [
    "### Loading Init Data and define the header/column names that contain sample labels from MTBLS csv"
   ]
  },
  {
   "cell_type": "code",
   "execution_count": 17,
   "metadata": {},
   "outputs": [],
   "source": [
    "# contents of the list would be user submitted\n",
    "sample_labels_header <- c('Factor.Value.Breast.cancer.diagnosis.',\n",
    "                          'Factor.Value.Histological.grade.',\n",
    "                          'Factor.Value.Breast.cancer.relapse.',\n",
    "                          'Factor.Value.Time.to.relapse.')"
   ]
  },
  {
   "cell_type": "code",
   "execution_count": 15,
   "metadata": {},
   "outputs": [
    {
     "name": "stdout",
     "output_type": "stream",
     "text": [
      "[1] \"assigned variables:\"\n",
      "[1] \"setwd_path\"\n",
      "[1] \"data_set_root_dir\"\n",
      "[1] \"path_to_fid\"\n",
      "[1] \"norm_bin_500_path\"\n",
      "[1] \"norm_bin_5000_path\"\n",
      "[1] \"bin500_for_sig_tests\"\n",
      "[1] \"figure_path\"\n",
      "[1] \"sample_labels_header\"\n",
      "[1] \"stat_results_data_path\"\n",
      "[1] \"BonSig_Cohen_results_data_path\"\n",
      "[1] \"filtered_ROI_path\"\n",
      "[1] \"sample_type\"\n",
      "[1] \"rDolphin_nmr_input_path\"\n",
      "[1] \"rDolphin_nmr_input_path_Early_vs_Late\"\n"
     ]
    }
   ],
   "source": [
    "labels_table <- read.csv(file=\"/Users/morris/Box/Hall_Lab/Projects/HUNA/MTBLS424/s_Breast_Cancer.csv\",\n",
    "                   header=TRUE, sep=\",\", check.names=TRUE)\n",
    "huna_init <- read.csv('/Users/morris/Box/Hall_Lab/Projects/HUNA/MTBLS424/MTBLS424_init.csv',\n",
    "                      header=TRUE, check.names=FALSE)\n",
    "nrow <- nrow(huna_init)\n",
    "print('assigned variables:')\n",
    "for (i in 1:nrow){\n",
    "    assign(toString(huna_init$type[i]), toString(huna_init$path[i]))\n",
    "    print(toString(huna_init$type[i]))\n",
    "}"
   ]
  },
  {
   "cell_type": "code",
   "execution_count": 3,
   "metadata": {},
   "outputs": [],
   "source": [
    "MTBLS_bin500 <- read.csv(file=norm_bin_500_path, header=TRUE, sep=\",\")\n",
    "MTBLS_bin5000 <- read.csv(file=norm_bin_5000_path, header=TRUE, sep=\",\")"
   ]
  },
  {
   "cell_type": "code",
   "execution_count": 4,
   "metadata": {},
   "outputs": [],
   "source": [
    "# Extract real numbers\n",
    "MTBLS_bin500_Re_apply <- apply(MTBLS_bin500[, c(2:(ncol(MTBLS_bin500)))],2, Re)\n",
    "# adding back the sample name column\n",
    "MTBLS_bin500_Re_apply <- cbind(MTBLS_bin500['X'], MTBLS_bin500_Re_apply)\n",
    "\n",
    "MTBLS_bin5000_Re_apply <- apply(MTBLS_bin5000[, c(2:(ncol(MTBLS_bin5000)))],2, Re)\n",
    "MTBLS_bin5000_Re_apply <- cbind(MTBLS_bin5000['X'], MTBLS_bin5000_Re_apply)"
   ]
  },
  {
   "cell_type": "code",
   "execution_count": 5,
   "metadata": {},
   "outputs": [],
   "source": [
    "# Identify the columns that contain zeros and its composition of zeros in %. Zero columns result\n",
    "# in PCA errors\n",
    "MTBLS_bin500_Re_apply_DelZeroCol <- MTBLS_bin500_Re_apply[, colSums(MTBLS_bin500_Re_apply != 0) > 0]\n",
    "\n",
    "MTBLS_bin5000_Re_apply_DelZeroCol <- MTBLS_bin5000_Re_apply[, colSums(MTBLS_bin5000_Re_apply != 0) > 0]"
   ]
  },
  {
   "cell_type": "code",
   "execution_count": 6,
   "metadata": {},
   "outputs": [],
   "source": [
    "# creating path for the bin500 data to be used when finding significant bins.\n",
    "bin500_for_sig_tests <- paste(setwd_path,data_set_root_dir, '/output/',\n",
    "                              data_set_root_dir, '_bin500_for_sig_tests.csv',sep='')\n",
    "bin5000_for_NN <- paste(setwd_path,data_set_root_dir, '/output/',\n",
    "                              data_set_root_dir, '_bin5000_for_sig_tests.csv',sep='')\n",
    "huna_init <- rbind(huna_init, data.frame(type = \"bin500_for_sig_tests\",\n",
    "                                         path = bin500_for_sig_tests))"
   ]
  },
  {
   "cell_type": "code",
   "execution_count": 18,
   "metadata": {},
   "outputs": [
    {
     "name": "stdout",
     "output_type": "stream",
     "text": [
      "[1] \"Factor.Value.Breast.cancer.diagnosis.\"\n",
      "[1] \"Factor.Value.Histological.grade.\"\n",
      "[1] \"Factor.Value.Breast.cancer.relapse.\"\n",
      "[1] \"Factor.Value.Time.to.relapse.\"\n"
     ]
    }
   ],
   "source": [
    "# for 500 bins data\n",
    "# adding labels to the MTBLS data to generate a PCA plot\n",
    "for (col in sample_labels_header){\n",
    "    col_to_add <- c()\n",
    "    print(col)\n",
    "    for (i in 1:nrow(MTBLS_bin500_Re_apply_DelZeroCol)){\n",
    "        # obtain ID of the sample from binning data\n",
    "        sample_ID <- as.character(MTBLS_bin500_Re_apply_DelZeroCol[i,1]) \n",
    "        # add regular expression syntax to find exact matches\n",
    "        sample_ID <- paste('^',sample_ID,'$', sep='')\n",
    "        #print(paste('sample ID: ',sample_ID))\n",
    "        # cross reference where the ID is found in the label table and query the row index\n",
    "        row_index <- (which(grepl(sample_ID, labels_table$Sample.Name)))\n",
    "        col_index <- (grep(col, colnames(labels_table)))\n",
    "        col_content <- as.character(labels_table[row_index,col_index])\n",
    "        #print(paste('col index: ', col_index, 'row index: ', row_index))\n",
    "        col_to_add <- c(col_to_add, col_content)\n",
    "    }\n",
    "    MTBLS_bin500_Re_apply_DelZeroCol[col] <- col_to_add\n",
    "}\n",
    "write.csv(MTBLS_bin500_Re_apply_DelZeroCol, file= bin500_for_sig_tests, row.names=FALSE)"
   ]
  },
  {
   "cell_type": "code",
   "execution_count": 19,
   "metadata": {},
   "outputs": [],
   "source": [
    "# for 5000 bins data\n",
    "# adding labels to the MTBLS data to generate a PCA plot\n",
    "for (col in sample_labels_header){\n",
    "    col_to_add <- c()\n",
    "    for (i in 1:nrow(MTBLS_bin5000_Re_apply_DelZeroCol)){\n",
    "        # obtain ID of the sample from binning data\n",
    "        sample_ID <- as.character(MTBLS_bin5000_Re_apply_DelZeroCol[i,1]) \n",
    "        # add regular expression syntax to find exact matches\n",
    "        sample_ID <- paste('^',sample_ID,'$', sep='')\n",
    "        #print(paste('sample ID: ',sample_ID))\n",
    "        # cross reference where the ID is found in the label table and query the row index\n",
    "        row_index <- (which(grepl(sample_ID, labels_table$Sample.Name)))\n",
    "        col_index <- (grep(col, colnames(labels_table)))\n",
    "        col_content <- as.character(labels_table[row_index,col_index])\n",
    "        #print(paste('col index: ', col_index, 'row index: ', row_index))\n",
    "        col_to_add <- c(col_to_add, col_content)\n",
    "    }\n",
    "    MTBLS_bin5000_Re_apply_DelZeroCol[col] <- col_to_add\n",
    "}\n",
    "write.csv(MTBLS_bin5000_Re_apply_DelZeroCol, file= bin5000_for_NN, row.names=FALSE)"
   ]
  },
  {
   "cell_type": "markdown",
   "metadata": {},
   "source": [
    "#### MTBLS PCA"
   ]
  },
  {
   "cell_type": "code",
   "execution_count": null,
   "metadata": {},
   "outputs": [],
   "source": [
    "# calculate PCA all cols excluding the sample name and sample labels\n",
    "MTBLS.pca <- prcomp(MTBLS_bin500_Re_apply_DelZeroCol\n",
    "                     [,c(2:(ncol(MTBLS_bin500_Re_apply_DelZeroCol)-length(sample_labels_header)))],\n",
    "                     center = TRUE, scale. = FALSE)"
   ]
  },
  {
   "cell_type": "code",
   "execution_count": null,
   "metadata": {},
   "outputs": [],
   "source": [
    "# creating the path and appending path to huna init csv for the outputed figures\n",
    "figure_path <- (paste(setwd_path,data_set_root_dir, '/output/figures/',sep=''))\n",
    "\n",
    "huna_init <- rbind(huna_init, data.frame(type = \"figure_path\", path = figure_path))"
   ]
  },
  {
   "cell_type": "code",
   "execution_count": null,
   "metadata": {},
   "outputs": [],
   "source": [
    "# appending the user defined list of sample label columns into the init csv file\n",
    "# collapsed list separated by a space\n",
    "sample_labels_header_string <- (paste(unlist(sample_labels_header), collapse=' '))\n",
    "huna_init <- rbind(huna_init, data.frame(type = \"sample_labels_header\",\n",
    "                                         path = sample_labels_header_string))"
   ]
  },
  {
   "cell_type": "code",
   "execution_count": null,
   "metadata": {},
   "outputs": [],
   "source": [
    "# saving the updated the huna init csv file\n",
    "save <- (paste(setwd_path,'/',data_set_root_dir, '/', data_set_root_dir, '_init.csv', sep=''))\n",
    "write.csv(huna_init, file= save, row.names=FALSE)"
   ]
  },
  {
   "cell_type": "code",
   "execution_count": null,
   "metadata": {},
   "outputs": [],
   "source": [
    "for (col in sample_labels_header){\n",
    "    col_index <- (grep(col, colnames(MTBLS_bin500_Re_apply_DelZeroCol)))\n",
    "    print(ggbiplot(MTBLS.pca, ellipse=TRUE, var.axes=FALSE,\n",
    "         groups=MTBLS_bin500_Re_apply_DelZeroCol[,col_index]))\n",
    "    if (grepl(\".\", col, fixed = TRUE)==TRUE){\n",
    "        col <- gsub(\"[.]\", \"_\", col)\n",
    "    }\n",
    "    filename <- paste(figure_path, col, 'pca_plot.png', sep='')\n",
    "    ggsave(filename, plot = last_plot(), dpi = 'retina')\n",
    "}"
   ]
  },
  {
   "cell_type": "code",
   "execution_count": null,
   "metadata": {},
   "outputs": [],
   "source": [
    "for (col in sample_labels_header){\n",
    "    if (grepl(\".\", col, fixed = TRUE)==TRUE){\n",
    "        col <- gsub(\"[.]\", \"_\", col)\n",
    "    }\n",
    "}"
   ]
  },
  {
   "cell_type": "code",
   "execution_count": null,
   "metadata": {},
   "outputs": [],
   "source": [
    "col"
   ]
  },
  {
   "cell_type": "code",
   "execution_count": null,
   "metadata": {},
   "outputs": [],
   "source": []
  }
 ],
 "metadata": {
  "kernelspec": {
   "display_name": "R",
   "language": "R",
   "name": "ir"
  },
  "language_info": {
   "codemirror_mode": "r",
   "file_extension": ".r",
   "mimetype": "text/x-r-source",
   "name": "R",
   "pygments_lexer": "r",
   "version": "3.6.3"
  }
 },
 "nbformat": 4,
 "nbformat_minor": 2
}
