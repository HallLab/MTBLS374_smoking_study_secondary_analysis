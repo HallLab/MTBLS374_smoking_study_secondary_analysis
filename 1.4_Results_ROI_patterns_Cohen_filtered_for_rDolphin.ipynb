{
 "cells": [
  {
   "cell_type": "code",
   "execution_count": 1,
   "metadata": {},
   "outputs": [],
   "source": [
    "library(effsize)"
   ]
  },
  {
   "cell_type": "code",
   "execution_count": 2,
   "metadata": {},
   "outputs": [
    {
     "name": "stdout",
     "output_type": "stream",
     "text": [
      "[1] \"ASSIGNED VARIABLES:\"\n",
      "[1] \"setwd_path\"\n",
      "[1] \"data_set_root_dir\"\n",
      "[1] \"path_to_fid\"\n",
      "[1] \"norm_bin_500_path\"\n",
      "[1] \"norm_bin_5000_path\"\n",
      "[1] \"bin500_for_sig_tests\"\n",
      "[1] \"figure_path\"\n",
      "[1] \"sample_labels_header\"\n",
      "[1] \"stat_results_data_path\"\n",
      "[1] \"BonSig_Cohen_results_data_path\"\n"
     ]
    }
   ],
   "source": [
    "# load and set variables\n",
    "sample_type <- 'blood serum'\n",
    "huna_init <- read.csv('/Users/morris/Box/Hall_Lab/Projects/HUNA/MTBLS424/MTBLS424_init.csv',\n",
    "                      header=TRUE, check.names=FALSE)\n",
    "nrow <- nrow(huna_init)\n",
    "print('ASSIGNED VARIABLES:')\n",
    "for (i in 1:nrow){\n",
    "    assign(toString(huna_init$type[i]), toString(huna_init$path[i]))\n",
    "    print(toString(huna_init$type[i]))\n",
    "}"
   ]
  },
  {
   "cell_type": "code",
   "execution_count": 3,
   "metadata": {},
   "outputs": [],
   "source": [
    "nmr_data <- read.csv(stat_results_data_path, header=TRUE, check.names=FALSE)\n",
    "nmr_data$Spectral_Bin <- substring(nmr_data$Spectral_Bin, 2)"
   ]
  },
  {
   "cell_type": "code",
   "execution_count": 4,
   "metadata": {},
   "outputs": [
    {
     "name": "stdout",
     "output_type": "stream",
     "text": [
      "[1] \"Number of spectral bins with >=80% Power:  448\"\n",
      "[1] \"Number of spectral bins with Bonferroni corrected significance:  127\"\n"
     ]
    }
   ],
   "source": [
    "nmr_power <- nmr_data[nmr_data$Power_CohenVal_Threshold == TRUE,]\n",
    "print(paste('Number of spectral bins with >=80% Power: ',nrow(nmr_power)))\n",
    "data <- nmr_power[nmr_power$WRS_Test_Sig_Bonferroni == TRUE,]\n",
    "print(paste('Number of spectral bins with Bonferroni corrected significance: '\n",
    "            ,nrow(data)))"
   ]
  },
  {
   "cell_type": "code",
   "execution_count": 5,
   "metadata": {},
   "outputs": [],
   "source": [
    "# urine ROI\n",
    "if (sample_type == 'urine'){\n",
    "    all_ROI <- read.csv('/Users/morris/Box/Hall_Lab/Projects/MTBLS_explore/MTBLS1/input/All_urine_ROI.csv',\n",
    "                    header=TRUE, check.names=FALSE)\n",
    "}\n",
    "if (sample_type == 'blood serum'){\n",
    "    all_ROI <- read.csv('/Users/morris/Box/Hall_Lab/Projects/MTBLS_explore/MTBLS1/input/All_Blood_ROI.csv',\n",
    "                header=TRUE, check.names=FALSE)\n",
    "}"
   ]
  },
  {
   "cell_type": "code",
   "execution_count": 6,
   "metadata": {},
   "outputs": [],
   "source": [
    "filtered_ROI <- all_ROI\n",
    "all_ROI$selected <- FALSE"
   ]
  },
  {
   "cell_type": "code",
   "execution_count": 7,
   "metadata": {},
   "outputs": [],
   "source": [
    "# for a given bin, check if the bin falls into any number or ROI ranges and if it does, return the\n",
    "# the index. After, drop the non-unique indices and finally compile the ROI list."
   ]
  },
  {
   "cell_type": "code",
   "execution_count": 8,
   "metadata": {},
   "outputs": [
    {
     "data": {
      "text/html": [
       "127"
      ],
      "text/latex": [
       "127"
      ],
      "text/markdown": [
       "127"
      ],
      "text/plain": [
       "[1] 127"
      ]
     },
     "metadata": {},
     "output_type": "display_data"
    },
    {
     "data": {
      "text/html": [
       "<table>\n",
       "<caption>A data.frame: 6 × 1</caption>\n",
       "<thead>\n",
       "\t<tr><th></th><th scope=col>Spectral_Bin</th></tr>\n",
       "\t<tr><th></th><th scope=col>&lt;chr&gt;</th></tr>\n",
       "</thead>\n",
       "<tbody>\n",
       "\t<tr><th scope=row>76</th><td>8.48992060002728</td></tr>\n",
       "\t<tr><th scope=row>89</th><td>8.22992060002728</td></tr>\n",
       "\t<tr><th scope=row>106</th><td>7.88992060002728</td></tr>\n",
       "\t<tr><th scope=row>110</th><td>7.80992060002728</td></tr>\n",
       "\t<tr><th scope=row>117</th><td>7.66992060002728</td></tr>\n",
       "\t<tr><th scope=row>118</th><td>7.64992060002728</td></tr>\n",
       "</tbody>\n",
       "</table>\n"
      ],
      "text/latex": [
       "A data.frame: 6 × 1\n",
       "\\begin{tabular}{r|l}\n",
       "  & Spectral\\_Bin\\\\\n",
       "  & <chr>\\\\\n",
       "\\hline\n",
       "\t76 & 8.48992060002728\\\\\n",
       "\t89 & 8.22992060002728\\\\\n",
       "\t106 & 7.88992060002728\\\\\n",
       "\t110 & 7.80992060002728\\\\\n",
       "\t117 & 7.66992060002728\\\\\n",
       "\t118 & 7.64992060002728\\\\\n",
       "\\end{tabular}\n"
      ],
      "text/markdown": [
       "\n",
       "A data.frame: 6 × 1\n",
       "\n",
       "| <!--/--> | Spectral_Bin &lt;chr&gt; |\n",
       "|---|---|\n",
       "| 76 | 8.48992060002728 |\n",
       "| 89 | 8.22992060002728 |\n",
       "| 106 | 7.88992060002728 |\n",
       "| 110 | 7.80992060002728 |\n",
       "| 117 | 7.66992060002728 |\n",
       "| 118 | 7.64992060002728 |\n",
       "\n"
      ],
      "text/plain": [
       "    Spectral_Bin    \n",
       "76  8.48992060002728\n",
       "89  8.22992060002728\n",
       "106 7.88992060002728\n",
       "110 7.80992060002728\n",
       "117 7.66992060002728\n",
       "118 7.64992060002728"
      ]
     },
     "metadata": {},
     "output_type": "display_data"
    }
   ],
   "source": [
    "# only_spec is a vector of the filtered spectral bins that met Bonferroni significance and large\n",
    "# and medium cohen's D effect size.\n",
    "only_spec <- data[1]\n",
    "nrow(only_spec)\n",
    "head(only_spec)"
   ]
  },
  {
   "cell_type": "code",
   "execution_count": 9,
   "metadata": {},
   "outputs": [],
   "source": [
    "rows <- c()\n",
    "for (k in 1:nrow(all_ROI)){\n",
    "    left_edge <- all_ROI[k,1]\n",
    "    if (is.na(left_edge)){\n",
    "        next}\n",
    "    right_edge <- all_ROI[k,2]\n",
    "    if (is.na(right_edge)){\n",
    "        next}\n",
    "    for (i in 1:nrow(only_spec)){\n",
    "        bin_position <- (data[i,1])\n",
    "        if (left_edge>bin_position & bin_position>right_edge){\n",
    "            all_ROI$selected[k] <- TRUE\n",
    "        }\n",
    "    }\n",
    "    #all_ROI[\"ROI_to_add\"] <- rows\n",
    "}"
   ]
  },
  {
   "cell_type": "code",
   "execution_count": 10,
   "metadata": {},
   "outputs": [],
   "source": [
    "# sanity check\n",
    "#all_ROI$selected"
   ]
  },
  {
   "cell_type": "code",
   "execution_count": 11,
   "metadata": {},
   "outputs": [],
   "source": [
    "ROI_indices <- which(all_ROI$selected)"
   ]
  },
  {
   "cell_type": "code",
   "execution_count": 12,
   "metadata": {},
   "outputs": [],
   "source": [
    "filtered_ROI <- filtered_ROI[ROI_indices,]"
   ]
  },
  {
   "cell_type": "code",
   "execution_count": 13,
   "metadata": {},
   "outputs": [
    {
     "name": "stdout",
     "output_type": "stream",
     "text": [
      "[1] \"MTBLS424 :number of candidate compounds used for the peak-fitting search: 1853\"\n"
     ]
    }
   ],
   "source": [
    "print(paste(data_set_root_dir, \":number of candidate compounds used for the peak-fitting search:\",\n",
    "            nrow(filtered_ROI)))"
   ]
  },
  {
   "cell_type": "code",
   "execution_count": 14,
   "metadata": {},
   "outputs": [],
   "source": [
    "filtered_ROI_path <- paste(setwd_path, data_set_root_dir, '/output/', data_set_root_dir,\n",
    "                       '_filtered_ROI.csv', sep='')\n",
    "write.csv(filtered_ROI, file= filtered_ROI_path, row.names=FALSE)"
   ]
  },
  {
   "cell_type": "code",
   "execution_count": 15,
   "metadata": {},
   "outputs": [],
   "source": [
    "huna_init <- rbind(huna_init, data.frame(type = \"filtered_ROI_path\",\n",
    "                                         path = filtered_ROI_path))\n",
    "huna_init <- rbind(huna_init, data.frame(type = \"sample_type\",\n",
    "                                         path = sample_type))\n",
    "\n",
    "save <- (paste(setwd_path,'/',data_set_root_dir, '/', data_set_root_dir, '_init.csv', sep=''))\n",
    "write.csv(huna_init, file= save, row.names=FALSE)"
   ]
  },
  {
   "cell_type": "code",
   "execution_count": null,
   "metadata": {},
   "outputs": [],
   "source": []
  }
 ],
 "metadata": {
  "kernelspec": {
   "display_name": "R",
   "language": "R",
   "name": "ir"
  },
  "language_info": {
   "codemirror_mode": "r",
   "file_extension": ".r",
   "mimetype": "text/x-r-source",
   "name": "R",
   "pygments_lexer": "r",
   "version": "3.6.3"
  }
 },
 "nbformat": 4,
 "nbformat_minor": 2
}
