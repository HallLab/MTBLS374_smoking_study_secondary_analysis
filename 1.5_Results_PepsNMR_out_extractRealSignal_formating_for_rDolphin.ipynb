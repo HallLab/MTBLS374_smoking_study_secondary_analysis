{
 "cells": [
  {
   "cell_type": "code",
   "execution_count": 1,
   "metadata": {},
   "outputs": [
    {
     "name": "stdout",
     "output_type": "stream",
     "text": [
      "[1] \"ASSIGNED VARIABLES:\"\n",
      "[1] \"setwd_path\"\n",
      "[1] \"data_set_root_dir\"\n",
      "[1] \"path_to_fid\"\n",
      "[1] \"norm_bin_500_path\"\n",
      "[1] \"norm_bin_5000_path\"\n",
      "[1] \"bin500_for_sig_tests\"\n",
      "[1] \"figure_path\"\n",
      "[1] \"sample_labels_header\"\n",
      "[1] \"stat_results_data_path\"\n",
      "[1] \"BonSig_Cohen_results_data_path\"\n",
      "[1] \"filtered_ROI_path\"\n",
      "[1] \"sample_type\"\n",
      "[1] \"rDolphin_nmr_input_path\"\n"
     ]
    }
   ],
   "source": [
    "title_x_vs_y <- 'Early_vs_Late'\n",
    "huna_init <- read.csv('/Users/morris/Box/Hall_Lab/Projects/HUNA/MTBLS424/MTBLS424_init.csv',\n",
    "                      header=TRUE, check.names=FALSE)\n",
    "nrow <- nrow(huna_init)\n",
    "print('ASSIGNED VARIABLES:')\n",
    "for (i in 1:nrow){\n",
    "    assign(toString(huna_init$type[i]), toString(huna_init$path[i]))\n",
    "    print(toString(huna_init$type[i]))\n",
    "}"
   ]
  },
  {
   "cell_type": "code",
   "execution_count": 2,
   "metadata": {},
   "outputs": [],
   "source": [
    "data_0.002 <- read.csv(file= norm_bin_5000_path, header=TRUE, sep=\",\",check.names=FALSE)"
   ]
  },
  {
   "cell_type": "code",
   "execution_count": 3,
   "metadata": {},
   "outputs": [],
   "source": [
    "data_0.002_rowlab <- as.data.frame(data_0.002[,1], col.names=c(\"sample\"))"
   ]
  },
  {
   "cell_type": "code",
   "execution_count": 4,
   "metadata": {},
   "outputs": [],
   "source": [
    "data_0.002_Re_apply <- apply(data_0.002[,2:(ncol(data_0.002))],2, Re)"
   ]
  },
  {
   "cell_type": "code",
   "execution_count": 5,
   "metadata": {},
   "outputs": [],
   "source": [
    "# sanity check\n",
    "#data_0.002_Re_apply[1:3,1:3]"
   ]
  },
  {
   "cell_type": "code",
   "execution_count": 6,
   "metadata": {},
   "outputs": [],
   "source": [
    "#for rDolphin use\n",
    "rDolphin_nmr_input_path <- paste(setwd_path, data_set_root_dir, '/output/', data_set_root_dir,\n",
    "                                 'rDolphin_nmr_input_', title_x_vs_y,\n",
    "                                 '.csv', sep='')\n",
    "write.csv(data_0.002_Re_apply, file=rDolphin_nmr_input_path, row.names=FALSE)"
   ]
  },
  {
   "cell_type": "code",
   "execution_count": 7,
   "metadata": {},
   "outputs": [],
   "source": [
    "save <- (paste(setwd_path,'/',data_set_root_dir, '/', data_set_root_dir, '_init.csv', sep=''))\n",
    "huna_init <- rbind(huna_init, data.frame(type = paste(\"rDolphin_nmr_input_path_\",title_x_vs_y,\n",
    "                                                      sep=''),\n",
    "                                         path = rDolphin_nmr_input_path))\n",
    "write.csv(huna_init, file= save, row.names=FALSE)"
   ]
  },
  {
   "cell_type": "code",
   "execution_count": null,
   "metadata": {},
   "outputs": [],
   "source": []
  }
 ],
 "metadata": {
  "kernelspec": {
   "display_name": "R",
   "language": "R",
   "name": "ir"
  },
  "language_info": {
   "codemirror_mode": "r",
   "file_extension": ".r",
   "mimetype": "text/x-r-source",
   "name": "R",
   "pygments_lexer": "r",
   "version": "3.6.3"
  }
 },
 "nbformat": 4,
 "nbformat_minor": 2
}
