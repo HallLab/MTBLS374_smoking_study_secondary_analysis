{
 "cells": [
  {
   "cell_type": "markdown",
   "metadata": {},
   "source": [
    "## Initialize shared variables"
   ]
  },
  {
   "cell_type": "code",
   "execution_count": 35,
   "metadata": {},
   "outputs": [],
   "source": [
    "phenotype_col <- 'Factor.Value.Breast.cancer.diagnosis.'\n",
    "case_label <- \"Metastatic\"\n",
    "control_label <- \"Early\""
   ]
  },
  {
   "cell_type": "code",
   "execution_count": 34,
   "metadata": {},
   "outputs": [
    {
     "name": "stdout",
     "output_type": "stream",
     "text": [
      "[1] 14\n",
      "[1] \"assigned variables:\"\n",
      "[1] \"setwd_path\"\n",
      "[1] \"data_set_root_dir\"\n",
      "[1] \"path_to_fid\"\n",
      "[1] \"norm_bin_500_path\"\n",
      "[1] \"norm_bin_5000_path\"\n",
      "[1] \"bin500_for_sig_tests\"\n",
      "[1] \"figure_path\"\n",
      "[1] \"sample_labels_header\"\n",
      "[1] \"stat_results_data_path\"\n",
      "[1] \"BonSig_Cohen_results_data_path\"\n",
      "[1] \"filtered_ROI_path\"\n",
      "[1] \"sample_type\"\n",
      "[1] \"rDolphin_nmr_input_path\"\n",
      "[1] \"rDolphin_nmr_input_path_Early_vs_Late\"\n"
     ]
    }
   ],
   "source": [
    "huna_init <- read.csv('/Users/morris/Box/Hall_Lab/Projects/HUNA/MTBLS424/MTBLS424_init.csv',\n",
    "                      header=TRUE, check.names=FALSE)\n",
    "\n",
    "nrow <- nrow(huna_init)\n",
    "print(nrow)\n",
    "print('assigned variables:')\n",
    "for (i in 1:nrow){\n",
    "    assign(toString(huna_init$type[i]), toString(huna_init$path[i]))\n",
    "    print(toString(huna_init$type[i]))\n",
    "}"
   ]
  },
  {
   "cell_type": "markdown",
   "metadata": {},
   "source": [
    "### Divide the ROI list into 25 equal portions"
   ]
  },
  {
   "cell_type": "code",
   "execution_count": 36,
   "metadata": {},
   "outputs": [],
   "source": [
    "fullROI_path <- '/Users/morris/Box/Hall_Lab/Projects/HUNA/MTBLS424/output/MTBLS424_filtered_ROI.csv'\n",
    "fullROI <- read.csv(file=fullROI_path, header=TRUE, check.names=FALSE)"
   ]
  },
  {
   "cell_type": "code",
   "execution_count": 63,
   "metadata": {},
   "outputs": [
    {
     "name": "stdout",
     "output_type": "stream",
     "text": [
      "[1] 25\n"
     ]
    }
   ],
   "source": [
    "n <- 75\n",
    "nr <- nrow(fullROI)\n",
    "splitROI <- split(fullROI, rep(1:ceiling(nr/n), each=n, length.out=nr))\n",
    "print(length(splitROI))"
   ]
  },
  {
   "cell_type": "code",
   "execution_count": 72,
   "metadata": {
    "scrolled": true
   },
   "outputs": [
    {
     "data": {
      "text/html": [
       "<table>\n",
       "<caption>A data.frame: 75 × 12</caption>\n",
       "<thead>\n",
       "\t<tr><th></th><th scope=col>ROI.left.edge</th><th scope=col>ROI.right.edge</th><th scope=col>Quantification.Mode</th><th scope=col>Metabolite</th><th scope=col>Quantification.Signal</th><th scope=col>Chemical.shift</th><th scope=col>Chemical.shift.tolerance</th><th scope=col>Half.bandwidth</th><th scope=col>Multiplicity</th><th scope=col>J.coupling</th><th scope=col>Roof.effect</th><th scope=col>HMDB.code</th></tr>\n",
       "\t<tr><th></th><th scope=col>&lt;dbl&gt;</th><th scope=col>&lt;dbl&gt;</th><th scope=col>&lt;fct&gt;</th><th scope=col>&lt;fct&gt;</th><th scope=col>&lt;int&gt;</th><th scope=col>&lt;dbl&gt;</th><th scope=col>&lt;dbl&gt;</th><th scope=col>&lt;dbl&gt;</th><th scope=col>&lt;int&gt;</th><th scope=col>&lt;dbl&gt;</th><th scope=col>&lt;int&gt;</th><th scope=col>&lt;fct&gt;</th></tr>\n",
       "</thead>\n",
       "<tbody>\n",
       "\t<tr><th scope=row>76</th><td>2.295</td><td>2.255</td><td>Baseline Fitting</td><td>17a-Estradiol                 </td><td>10</td><td>2.275</td><td>0.015</td><td>9.5</td><td>1</td><td>0.00</td><td>0</td><td>HMDB00429</td></tr>\n",
       "\t<tr><th scope=row>77</th><td>2.785</td><td>2.745</td><td>Baseline Fitting</td><td>17a-Estradiol                 </td><td>11</td><td>2.765</td><td>0.015</td><td>9.5</td><td>1</td><td>0.00</td><td>0</td><td>HMDB00429</td></tr>\n",
       "\t<tr><th scope=row>78</th><td>3.685</td><td>3.645</td><td>Baseline Fitting</td><td>17a-Estradiol                 </td><td>12</td><td>3.665</td><td>0.015</td><td>9.5</td><td>3</td><td>8.67</td><td>0</td><td>HMDB00429</td></tr>\n",
       "\t<tr><th scope=row>79</th><td>7.105</td><td>7.065</td><td>Baseline Fitting</td><td>17a-Estradiol                 </td><td>15</td><td>7.085</td><td>0.015</td><td>9.5</td><td>2</td><td>8.47</td><td>0</td><td>HMDB00429</td></tr>\n",
       "\t<tr><th scope=row>80</th><td>1.755</td><td>1.715</td><td>Baseline Fitting</td><td>17a-Ethynylestradiol          </td><td> 3</td><td>1.735</td><td>0.015</td><td>9.5</td><td>1</td><td>0.00</td><td>0</td><td>HMDB01926</td></tr>\n",
       "\t<tr><th scope=row>81</th><td>1.825</td><td>1.785</td><td>Baseline Fitting</td><td>17a-Ethynylestradiol          </td><td> 4</td><td>1.805</td><td>0.015</td><td>9.5</td><td>1</td><td>0.00</td><td>0</td><td>HMDB01926</td></tr>\n",
       "\t<tr><th scope=row>82</th><td>2.065</td><td>2.025</td><td>Baseline Fitting</td><td>17a-Ethynylestradiol          </td><td> 6</td><td>2.045</td><td>0.015</td><td>9.5</td><td>1</td><td>0.00</td><td>0</td><td>HMDB01926</td></tr>\n",
       "\t<tr><th scope=row>83</th><td>2.255</td><td>2.215</td><td>Baseline Fitting</td><td>17a-Ethynylestradiol          </td><td> 7</td><td>2.235</td><td>0.015</td><td>9.5</td><td>1</td><td>0.00</td><td>0</td><td>HMDB01926</td></tr>\n",
       "\t<tr><th scope=row>84</th><td>2.385</td><td>2.345</td><td>Baseline Fitting</td><td>17a-Ethynylestradiol          </td><td> 8</td><td>2.365</td><td>0.015</td><td>9.5</td><td>1</td><td>0.00</td><td>0</td><td>HMDB01926</td></tr>\n",
       "\t<tr><th scope=row>85</th><td>2.645</td><td>2.605</td><td>Baseline Fitting</td><td>17a-Ethynylestradiol          </td><td> 9</td><td>2.625</td><td>0.015</td><td>9.5</td><td>1</td><td>0.00</td><td>0</td><td>HMDB01926</td></tr>\n",
       "\t<tr><th scope=row>86</th><td>2.875</td><td>2.835</td><td>Baseline Fitting</td><td>17a-Ethynylestradiol          </td><td>10</td><td>2.855</td><td>0.015</td><td>9.5</td><td>1</td><td>0.00</td><td>0</td><td>HMDB01926</td></tr>\n",
       "\t<tr><th scope=row>87</th><td>0.895</td><td>0.855</td><td>Baseline Fitting</td><td>17a-Hydroxypregnenolone       </td><td> 2</td><td>0.875</td><td>0.015</td><td>9.5</td><td>1</td><td>0.00</td><td>0</td><td>HMDB00363</td></tr>\n",
       "\t<tr><th scope=row>88</th><td>0.975</td><td>0.935</td><td>Baseline Fitting</td><td>17a-Hydroxypregnenolone       </td><td> 3</td><td>0.955</td><td>0.015</td><td>9.5</td><td>1</td><td>0.00</td><td>0</td><td>HMDB00363</td></tr>\n",
       "\t<tr><th scope=row>89</th><td>0.995</td><td>0.955</td><td>Baseline Fitting</td><td>17a-Hydroxypregnenolone       </td><td> 4</td><td>0.975</td><td>0.015</td><td>9.5</td><td>1</td><td>0.00</td><td>0</td><td>HMDB00363</td></tr>\n",
       "\t<tr><th scope=row>90</th><td>1.375</td><td>1.335</td><td>Baseline Fitting</td><td>17a-Hydroxypregnenolone       </td><td> 6</td><td>1.355</td><td>0.015</td><td>9.5</td><td>1</td><td>0.00</td><td>0</td><td>HMDB00363</td></tr>\n",
       "\t<tr><th scope=row>91</th><td>1.555</td><td>1.515</td><td>Baseline Fitting</td><td>17a-Hydroxypregnenolone       </td><td> 7</td><td>1.535</td><td>0.015</td><td>9.5</td><td>1</td><td>0.00</td><td>0</td><td>HMDB00363</td></tr>\n",
       "\t<tr><th scope=row>92</th><td>1.995</td><td>1.955</td><td>Baseline Fitting</td><td>17a-Hydroxypregnenolone       </td><td> 9</td><td>1.975</td><td>0.015</td><td>9.5</td><td>1</td><td>0.00</td><td>0</td><td>HMDB00363</td></tr>\n",
       "\t<tr><th scope=row>93</th><td>2.125</td><td>2.085</td><td>Baseline Fitting</td><td>17a-Hydroxypregnenolone       </td><td>10</td><td>2.105</td><td>0.015</td><td>9.5</td><td>1</td><td>0.00</td><td>0</td><td>HMDB00363</td></tr>\n",
       "\t<tr><th scope=row>94</th><td>2.555</td><td>2.515</td><td>Baseline Fitting</td><td>17a-Hydroxypregnenolone       </td><td>11</td><td>2.535</td><td>0.015</td><td>9.5</td><td>1</td><td>0.00</td><td>0</td><td>HMDB00363</td></tr>\n",
       "\t<tr><th scope=row>95</th><td>3.265</td><td>3.225</td><td>Baseline Fitting</td><td>17a-Hydroxypregnenolone       </td><td>12</td><td>3.245</td><td>0.015</td><td>9.5</td><td>1</td><td>0.00</td><td>0</td><td>HMDB00363</td></tr>\n",
       "\t<tr><th scope=row>96</th><td>6.845</td><td>6.805</td><td>Baseline Fitting</td><td>2-Aminobenzoic acid           </td><td> 1</td><td>6.825</td><td>0.015</td><td>9.5</td><td>1</td><td>0.00</td><td>0</td><td>HMDB01123</td></tr>\n",
       "\t<tr><th scope=row>97</th><td>6.885</td><td>6.845</td><td>Baseline Fitting</td><td>2-Aminobenzoic acid           </td><td> 2</td><td>6.865</td><td>0.015</td><td>9.5</td><td>1</td><td>0.00</td><td>0</td><td>HMDB01123</td></tr>\n",
       "\t<tr><th scope=row>98</th><td>3.975</td><td>3.935</td><td>Baseline Fitting</td><td>2-Furoylglycine               </td><td> 1</td><td>3.955</td><td>0.015</td><td>9.5</td><td>2</td><td>5.93</td><td>0</td><td>HMDB00439</td></tr>\n",
       "\t<tr><th scope=row>99</th><td>0.985</td><td>0.945</td><td>Baseline Fitting</td><td>2-Hydroxy-2-methylbutyric acid</td><td> 1</td><td>0.965</td><td>0.015</td><td>9.5</td><td>3</td><td>7.44</td><td>0</td><td>HMDB01987</td></tr>\n",
       "\t<tr><th scope=row>100</th><td>1.755</td><td>1.715</td><td>Baseline Fitting</td><td>2-Hydroxy-2-methylbutyric acid</td><td> 3</td><td>1.735</td><td>0.015</td><td>9.5</td><td>1</td><td>0.00</td><td>0</td><td>HMDB01987</td></tr>\n",
       "\t<tr><th scope=row>101</th><td>0.985</td><td>0.945</td><td>Baseline Fitting</td><td>2-Hydroxy-3-methylbutyric acid</td><td> 5</td><td>0.965</td><td>0.015</td><td>9.5</td><td>2</td><td>6.96</td><td>0</td><td>HMDB00407</td></tr>\n",
       "\t<tr><th scope=row>102</th><td>2.045</td><td>2.005</td><td>Baseline Fitting</td><td>2-Hydroxy-3-methylbutyric acid</td><td> 6</td><td>2.025</td><td>0.015</td><td>9.5</td><td>1</td><td>0.00</td><td>0</td><td>HMDB00407</td></tr>\n",
       "\t<tr><th scope=row>103</th><td>1.805</td><td>1.765</td><td>Baseline Fitting</td><td>2-Hydroxyadipic acid          </td><td> 2</td><td>1.785</td><td>0.015</td><td>9.5</td><td>1</td><td>0.00</td><td>0</td><td>HMDB00321</td></tr>\n",
       "\t<tr><th scope=row>104</th><td>2.415</td><td>2.375</td><td>Baseline Fitting</td><td>2-Hydroxyadipic acid          </td><td> 3</td><td>2.395</td><td>0.015</td><td>9.5</td><td>1</td><td>0.00</td><td>0</td><td>HMDB00321</td></tr>\n",
       "\t<tr><th scope=row>105</th><td>4.155</td><td>4.115</td><td>Baseline Fitting</td><td>2-Hydroxyadipic acid          </td><td> 4</td><td>4.135</td><td>0.015</td><td>9.5</td><td>1</td><td>0.00</td><td>0</td><td>HMDB00321</td></tr>\n",
       "\t<tr><th scope=row>⋮</th><td>⋮</td><td>⋮</td><td>⋮</td><td>⋮</td><td>⋮</td><td>⋮</td><td>⋮</td><td>⋮</td><td>⋮</td><td>⋮</td><td>⋮</td><td>⋮</td></tr>\n",
       "\t<tr><th scope=row>121</th><td>1.585</td><td>1.545</td><td>Baseline Fitting</td><td>2-Methoxyestradiol                         </td><td> 4</td><td>1.565</td><td>0.015</td><td>9.5</td><td>1</td><td>0.000</td><td>0</td><td>HMDB00405</td></tr>\n",
       "\t<tr><th scope=row>122</th><td>1.775</td><td>1.735</td><td>Baseline Fitting</td><td>2-Methoxyestradiol                         </td><td> 5</td><td>1.755</td><td>0.015</td><td>9.5</td><td>1</td><td>0.000</td><td>0</td><td>HMDB00405</td></tr>\n",
       "\t<tr><th scope=row>123</th><td>2.085</td><td>2.045</td><td>Baseline Fitting</td><td>2-Methoxyestradiol                         </td><td> 7</td><td>2.065</td><td>0.015</td><td>9.5</td><td>1</td><td>0.000</td><td>0</td><td>HMDB00405</td></tr>\n",
       "\t<tr><th scope=row>124</th><td>2.285</td><td>2.245</td><td>Baseline Fitting</td><td>2-Methoxyestradiol                         </td><td> 8</td><td>2.265</td><td>0.015</td><td>9.5</td><td>1</td><td>0.000</td><td>0</td><td>HMDB00405</td></tr>\n",
       "\t<tr><th scope=row>125</th><td>2.655</td><td>2.615</td><td>Baseline Fitting</td><td>2-Methoxyestradiol                         </td><td> 9</td><td>2.635</td><td>0.015</td><td>9.5</td><td>1</td><td>0.000</td><td>0</td><td>HMDB00405</td></tr>\n",
       "\t<tr><th scope=row>126</th><td>3.545</td><td>3.505</td><td>Baseline Fitting</td><td>2-Methoxyestradiol                         </td><td>10</td><td>3.525</td><td>0.015</td><td>9.5</td><td>1</td><td>0.000</td><td>0</td><td>HMDB00405</td></tr>\n",
       "\t<tr><th scope=row>127</th><td>1.475</td><td>1.435</td><td>Baseline Fitting</td><td>2-Methoxyestrone                           </td><td> 3</td><td>1.455</td><td>0.015</td><td>9.5</td><td>1</td><td>0.000</td><td>0</td><td>HMDB00010</td></tr>\n",
       "\t<tr><th scope=row>128</th><td>1.595</td><td>1.555</td><td>Baseline Fitting</td><td>2-Methoxyestrone                           </td><td> 4</td><td>1.575</td><td>0.015</td><td>9.5</td><td>1</td><td>0.000</td><td>0</td><td>HMDB00010</td></tr>\n",
       "\t<tr><th scope=row>129</th><td>1.785</td><td>1.745</td><td>Baseline Fitting</td><td>2-Methoxyestrone                           </td><td> 5</td><td>1.765</td><td>0.015</td><td>9.5</td><td>1</td><td>0.000</td><td>0</td><td>HMDB00010</td></tr>\n",
       "\t<tr><th scope=row>130</th><td>2.065</td><td>2.025</td><td>Baseline Fitting</td><td>2-Methoxyestrone                           </td><td> 7</td><td>2.045</td><td>0.015</td><td>9.5</td><td>1</td><td>0.000</td><td>0</td><td>HMDB00010</td></tr>\n",
       "\t<tr><th scope=row>131</th><td>2.175</td><td>2.135</td><td>Baseline Fitting</td><td>2-Methoxyestrone                           </td><td> 8</td><td>2.155</td><td>0.015</td><td>9.5</td><td>1</td><td>0.000</td><td>0</td><td>HMDB00010</td></tr>\n",
       "\t<tr><th scope=row>132</th><td>2.375</td><td>2.335</td><td>Baseline Fitting</td><td>2-Methoxyestrone                           </td><td> 9</td><td>2.355</td><td>0.015</td><td>9.5</td><td>1</td><td>0.000</td><td>0</td><td>HMDB00010</td></tr>\n",
       "\t<tr><th scope=row>133</th><td>2.445</td><td>2.405</td><td>Baseline Fitting</td><td>2-Methoxyestrone                           </td><td>10</td><td>2.425</td><td>0.015</td><td>9.5</td><td>1</td><td>0.000</td><td>0</td><td>HMDB00010</td></tr>\n",
       "\t<tr><th scope=row>134</th><td>2.415</td><td>2.375</td><td>Baseline Fitting</td><td>2-Methylhippuric acid                      </td><td> 1</td><td>2.395</td><td>0.015</td><td>9.5</td><td>1</td><td>0.000</td><td>0</td><td>HMDB11723</td></tr>\n",
       "\t<tr><th scope=row>135</th><td>4.065</td><td>4.025</td><td>Baseline Fitting</td><td>2-Methylhippuric acid                      </td><td> 2</td><td>4.045</td><td>0.015</td><td>9.5</td><td>2</td><td>5.860</td><td>0</td><td>HMDB11723</td></tr>\n",
       "\t<tr><th scope=row>136</th><td>7.465</td><td>7.425</td><td>Baseline Fitting</td><td>2-Methylhippuric acid                      </td><td> 4</td><td>7.445</td><td>0.015</td><td>9.5</td><td>1</td><td>0.000</td><td>0</td><td>HMDB11723</td></tr>\n",
       "\t<tr><th scope=row>137</th><td>7.475</td><td>7.435</td><td>Baseline Fitting</td><td>2-Phenylglycine                            </td><td> 1</td><td>7.455</td><td>0.015</td><td>9.5</td><td>1</td><td>0.000</td><td>0</td><td>HMDB02210</td></tr>\n",
       "\t<tr><th scope=row>138</th><td>7.515</td><td>7.475</td><td>Baseline Fitting</td><td>2-Phenylglycine                            </td><td> 2</td><td>7.495</td><td>0.015</td><td>9.5</td><td>1</td><td>0.000</td><td>0</td><td>HMDB02210</td></tr>\n",
       "\t<tr><th scope=row>139</th><td>2.325</td><td>2.285</td><td>Baseline Fitting</td><td>2-Pyrrolidinone                            </td><td> 2</td><td>2.305</td><td>0.015</td><td>9.5</td><td>3</td><td>8.090</td><td>0</td><td>HMDB02039</td></tr>\n",
       "\t<tr><th scope=row>140</th><td>3.425</td><td>3.385</td><td>Baseline Fitting</td><td>2-Pyrrolidinone                            </td><td> 3</td><td>3.405</td><td>0.015</td><td>9.5</td><td>3</td><td>6.950</td><td>0</td><td>HMDB02039</td></tr>\n",
       "\t<tr><th scope=row>141</th><td>3.645</td><td>3.605</td><td>Baseline Fitting</td><td>2.3-Butanediol                             </td><td> 2</td><td>3.625</td><td>0.015</td><td>9.5</td><td>1</td><td>0.000</td><td>0</td><td>HMDB03156</td></tr>\n",
       "\t<tr><th scope=row>142</th><td>3.415</td><td>3.375</td><td>Baseline Fitting</td><td>2.3-Diaminopropionic acid                  </td><td> 1</td><td>3.395</td><td>0.015</td><td>9.5</td><td>1</td><td>0.000</td><td>0</td><td>HMDB02006</td></tr>\n",
       "\t<tr><th scope=row>143</th><td>3.955</td><td>3.915</td><td>Baseline Fitting</td><td>2.3-Diaminopropionic acid                  </td><td> 2</td><td>3.935</td><td>0.015</td><td>9.5</td><td>1</td><td>0.000</td><td>0</td><td>HMDB02006</td></tr>\n",
       "\t<tr><th scope=row>144</th><td>4.065</td><td>4.025</td><td>Baseline Fitting</td><td>2.3-Diphosphoglyceric acid                 </td><td> 1</td><td>4.045</td><td>0.015</td><td>9.5</td><td>1</td><td>0.000</td><td>0</td><td>HMDB01294</td></tr>\n",
       "\t<tr><th scope=row>145</th><td>7.235</td><td>7.195</td><td>Baseline Fitting</td><td>2.4-Dichlorophenol                         </td><td> 2</td><td>7.215</td><td>0.015</td><td>9.5</td><td>2</td><td>8.750</td><td>0</td><td>HMDB04811</td></tr>\n",
       "\t<tr><th scope=row>146</th><td>7.465</td><td>7.425</td><td>Baseline Fitting</td><td>2.4-Dichlorophenol                         </td><td> 3</td><td>7.445</td><td>0.015</td><td>9.5</td><td>2</td><td>2.530</td><td>0</td><td>HMDB04811</td></tr>\n",
       "\t<tr><th scope=row>147</th><td>2.715</td><td>2.675</td><td>Baseline Fitting</td><td>3-(3-Hydroxyphenyl)-3-hydroxypropanoic acid</td><td> 1</td><td>2.695</td><td>0.015</td><td>9.5</td><td>1</td><td>0.000</td><td>0</td><td>HMDB02643</td></tr>\n",
       "\t<tr><th scope=row>148</th><td>6.875</td><td>6.835</td><td>Baseline Fitting</td><td>3-(3-Hydroxyphenyl)-3-hydroxypropanoic acid</td><td> 3</td><td>6.855</td><td>0.015</td><td>9.5</td><td>1</td><td>0.000</td><td>0</td><td>HMDB02643</td></tr>\n",
       "\t<tr><th scope=row>149</th><td>6.945</td><td>6.905</td><td>Baseline Fitting</td><td>3-(3-Hydroxyphenyl)-3-hydroxypropanoic acid</td><td> 4</td><td>6.925</td><td>0.015</td><td>9.5</td><td>1</td><td>0.000</td><td>0</td><td>HMDB02643</td></tr>\n",
       "\t<tr><th scope=row>150</th><td>1.239</td><td>1.199</td><td>Baseline Fitting</td><td>3-Hydroxybutyric acid                      </td><td> 1</td><td>1.219</td><td>0.015</td><td>9.5</td><td>2</td><td>6.262</td><td>0</td><td>HMDB00357</td></tr>\n",
       "</tbody>\n",
       "</table>\n"
      ],
      "text/latex": [
       "A data.frame: 75 × 12\n",
       "\\begin{tabular}{r|llllllllllll}\n",
       "  & ROI.left.edge & ROI.right.edge & Quantification.Mode & Metabolite & Quantification.Signal & Chemical.shift & Chemical.shift.tolerance & Half.bandwidth & Multiplicity & J.coupling & Roof.effect & HMDB.code\\\\\n",
       "  & <dbl> & <dbl> & <fct> & <fct> & <int> & <dbl> & <dbl> & <dbl> & <int> & <dbl> & <int> & <fct>\\\\\n",
       "\\hline\n",
       "\t76 & 2.295 & 2.255 & Baseline Fitting & 17a-Estradiol                  & 10 & 2.275 & 0.015 & 9.5 & 1 & 0.00 & 0 & HMDB00429\\\\\n",
       "\t77 & 2.785 & 2.745 & Baseline Fitting & 17a-Estradiol                  & 11 & 2.765 & 0.015 & 9.5 & 1 & 0.00 & 0 & HMDB00429\\\\\n",
       "\t78 & 3.685 & 3.645 & Baseline Fitting & 17a-Estradiol                  & 12 & 3.665 & 0.015 & 9.5 & 3 & 8.67 & 0 & HMDB00429\\\\\n",
       "\t79 & 7.105 & 7.065 & Baseline Fitting & 17a-Estradiol                  & 15 & 7.085 & 0.015 & 9.5 & 2 & 8.47 & 0 & HMDB00429\\\\\n",
       "\t80 & 1.755 & 1.715 & Baseline Fitting & 17a-Ethynylestradiol           &  3 & 1.735 & 0.015 & 9.5 & 1 & 0.00 & 0 & HMDB01926\\\\\n",
       "\t81 & 1.825 & 1.785 & Baseline Fitting & 17a-Ethynylestradiol           &  4 & 1.805 & 0.015 & 9.5 & 1 & 0.00 & 0 & HMDB01926\\\\\n",
       "\t82 & 2.065 & 2.025 & Baseline Fitting & 17a-Ethynylestradiol           &  6 & 2.045 & 0.015 & 9.5 & 1 & 0.00 & 0 & HMDB01926\\\\\n",
       "\t83 & 2.255 & 2.215 & Baseline Fitting & 17a-Ethynylestradiol           &  7 & 2.235 & 0.015 & 9.5 & 1 & 0.00 & 0 & HMDB01926\\\\\n",
       "\t84 & 2.385 & 2.345 & Baseline Fitting & 17a-Ethynylestradiol           &  8 & 2.365 & 0.015 & 9.5 & 1 & 0.00 & 0 & HMDB01926\\\\\n",
       "\t85 & 2.645 & 2.605 & Baseline Fitting & 17a-Ethynylestradiol           &  9 & 2.625 & 0.015 & 9.5 & 1 & 0.00 & 0 & HMDB01926\\\\\n",
       "\t86 & 2.875 & 2.835 & Baseline Fitting & 17a-Ethynylestradiol           & 10 & 2.855 & 0.015 & 9.5 & 1 & 0.00 & 0 & HMDB01926\\\\\n",
       "\t87 & 0.895 & 0.855 & Baseline Fitting & 17a-Hydroxypregnenolone        &  2 & 0.875 & 0.015 & 9.5 & 1 & 0.00 & 0 & HMDB00363\\\\\n",
       "\t88 & 0.975 & 0.935 & Baseline Fitting & 17a-Hydroxypregnenolone        &  3 & 0.955 & 0.015 & 9.5 & 1 & 0.00 & 0 & HMDB00363\\\\\n",
       "\t89 & 0.995 & 0.955 & Baseline Fitting & 17a-Hydroxypregnenolone        &  4 & 0.975 & 0.015 & 9.5 & 1 & 0.00 & 0 & HMDB00363\\\\\n",
       "\t90 & 1.375 & 1.335 & Baseline Fitting & 17a-Hydroxypregnenolone        &  6 & 1.355 & 0.015 & 9.5 & 1 & 0.00 & 0 & HMDB00363\\\\\n",
       "\t91 & 1.555 & 1.515 & Baseline Fitting & 17a-Hydroxypregnenolone        &  7 & 1.535 & 0.015 & 9.5 & 1 & 0.00 & 0 & HMDB00363\\\\\n",
       "\t92 & 1.995 & 1.955 & Baseline Fitting & 17a-Hydroxypregnenolone        &  9 & 1.975 & 0.015 & 9.5 & 1 & 0.00 & 0 & HMDB00363\\\\\n",
       "\t93 & 2.125 & 2.085 & Baseline Fitting & 17a-Hydroxypregnenolone        & 10 & 2.105 & 0.015 & 9.5 & 1 & 0.00 & 0 & HMDB00363\\\\\n",
       "\t94 & 2.555 & 2.515 & Baseline Fitting & 17a-Hydroxypregnenolone        & 11 & 2.535 & 0.015 & 9.5 & 1 & 0.00 & 0 & HMDB00363\\\\\n",
       "\t95 & 3.265 & 3.225 & Baseline Fitting & 17a-Hydroxypregnenolone        & 12 & 3.245 & 0.015 & 9.5 & 1 & 0.00 & 0 & HMDB00363\\\\\n",
       "\t96 & 6.845 & 6.805 & Baseline Fitting & 2-Aminobenzoic acid            &  1 & 6.825 & 0.015 & 9.5 & 1 & 0.00 & 0 & HMDB01123\\\\\n",
       "\t97 & 6.885 & 6.845 & Baseline Fitting & 2-Aminobenzoic acid            &  2 & 6.865 & 0.015 & 9.5 & 1 & 0.00 & 0 & HMDB01123\\\\\n",
       "\t98 & 3.975 & 3.935 & Baseline Fitting & 2-Furoylglycine                &  1 & 3.955 & 0.015 & 9.5 & 2 & 5.93 & 0 & HMDB00439\\\\\n",
       "\t99 & 0.985 & 0.945 & Baseline Fitting & 2-Hydroxy-2-methylbutyric acid &  1 & 0.965 & 0.015 & 9.5 & 3 & 7.44 & 0 & HMDB01987\\\\\n",
       "\t100 & 1.755 & 1.715 & Baseline Fitting & 2-Hydroxy-2-methylbutyric acid &  3 & 1.735 & 0.015 & 9.5 & 1 & 0.00 & 0 & HMDB01987\\\\\n",
       "\t101 & 0.985 & 0.945 & Baseline Fitting & 2-Hydroxy-3-methylbutyric acid &  5 & 0.965 & 0.015 & 9.5 & 2 & 6.96 & 0 & HMDB00407\\\\\n",
       "\t102 & 2.045 & 2.005 & Baseline Fitting & 2-Hydroxy-3-methylbutyric acid &  6 & 2.025 & 0.015 & 9.5 & 1 & 0.00 & 0 & HMDB00407\\\\\n",
       "\t103 & 1.805 & 1.765 & Baseline Fitting & 2-Hydroxyadipic acid           &  2 & 1.785 & 0.015 & 9.5 & 1 & 0.00 & 0 & HMDB00321\\\\\n",
       "\t104 & 2.415 & 2.375 & Baseline Fitting & 2-Hydroxyadipic acid           &  3 & 2.395 & 0.015 & 9.5 & 1 & 0.00 & 0 & HMDB00321\\\\\n",
       "\t105 & 4.155 & 4.115 & Baseline Fitting & 2-Hydroxyadipic acid           &  4 & 4.135 & 0.015 & 9.5 & 1 & 0.00 & 0 & HMDB00321\\\\\n",
       "\t⋮ & ⋮ & ⋮ & ⋮ & ⋮ & ⋮ & ⋮ & ⋮ & ⋮ & ⋮ & ⋮ & ⋮ & ⋮\\\\\n",
       "\t121 & 1.585 & 1.545 & Baseline Fitting & 2-Methoxyestradiol                          &  4 & 1.565 & 0.015 & 9.5 & 1 & 0.000 & 0 & HMDB00405\\\\\n",
       "\t122 & 1.775 & 1.735 & Baseline Fitting & 2-Methoxyestradiol                          &  5 & 1.755 & 0.015 & 9.5 & 1 & 0.000 & 0 & HMDB00405\\\\\n",
       "\t123 & 2.085 & 2.045 & Baseline Fitting & 2-Methoxyestradiol                          &  7 & 2.065 & 0.015 & 9.5 & 1 & 0.000 & 0 & HMDB00405\\\\\n",
       "\t124 & 2.285 & 2.245 & Baseline Fitting & 2-Methoxyestradiol                          &  8 & 2.265 & 0.015 & 9.5 & 1 & 0.000 & 0 & HMDB00405\\\\\n",
       "\t125 & 2.655 & 2.615 & Baseline Fitting & 2-Methoxyestradiol                          &  9 & 2.635 & 0.015 & 9.5 & 1 & 0.000 & 0 & HMDB00405\\\\\n",
       "\t126 & 3.545 & 3.505 & Baseline Fitting & 2-Methoxyestradiol                          & 10 & 3.525 & 0.015 & 9.5 & 1 & 0.000 & 0 & HMDB00405\\\\\n",
       "\t127 & 1.475 & 1.435 & Baseline Fitting & 2-Methoxyestrone                            &  3 & 1.455 & 0.015 & 9.5 & 1 & 0.000 & 0 & HMDB00010\\\\\n",
       "\t128 & 1.595 & 1.555 & Baseline Fitting & 2-Methoxyestrone                            &  4 & 1.575 & 0.015 & 9.5 & 1 & 0.000 & 0 & HMDB00010\\\\\n",
       "\t129 & 1.785 & 1.745 & Baseline Fitting & 2-Methoxyestrone                            &  5 & 1.765 & 0.015 & 9.5 & 1 & 0.000 & 0 & HMDB00010\\\\\n",
       "\t130 & 2.065 & 2.025 & Baseline Fitting & 2-Methoxyestrone                            &  7 & 2.045 & 0.015 & 9.5 & 1 & 0.000 & 0 & HMDB00010\\\\\n",
       "\t131 & 2.175 & 2.135 & Baseline Fitting & 2-Methoxyestrone                            &  8 & 2.155 & 0.015 & 9.5 & 1 & 0.000 & 0 & HMDB00010\\\\\n",
       "\t132 & 2.375 & 2.335 & Baseline Fitting & 2-Methoxyestrone                            &  9 & 2.355 & 0.015 & 9.5 & 1 & 0.000 & 0 & HMDB00010\\\\\n",
       "\t133 & 2.445 & 2.405 & Baseline Fitting & 2-Methoxyestrone                            & 10 & 2.425 & 0.015 & 9.5 & 1 & 0.000 & 0 & HMDB00010\\\\\n",
       "\t134 & 2.415 & 2.375 & Baseline Fitting & 2-Methylhippuric acid                       &  1 & 2.395 & 0.015 & 9.5 & 1 & 0.000 & 0 & HMDB11723\\\\\n",
       "\t135 & 4.065 & 4.025 & Baseline Fitting & 2-Methylhippuric acid                       &  2 & 4.045 & 0.015 & 9.5 & 2 & 5.860 & 0 & HMDB11723\\\\\n",
       "\t136 & 7.465 & 7.425 & Baseline Fitting & 2-Methylhippuric acid                       &  4 & 7.445 & 0.015 & 9.5 & 1 & 0.000 & 0 & HMDB11723\\\\\n",
       "\t137 & 7.475 & 7.435 & Baseline Fitting & 2-Phenylglycine                             &  1 & 7.455 & 0.015 & 9.5 & 1 & 0.000 & 0 & HMDB02210\\\\\n",
       "\t138 & 7.515 & 7.475 & Baseline Fitting & 2-Phenylglycine                             &  2 & 7.495 & 0.015 & 9.5 & 1 & 0.000 & 0 & HMDB02210\\\\\n",
       "\t139 & 2.325 & 2.285 & Baseline Fitting & 2-Pyrrolidinone                             &  2 & 2.305 & 0.015 & 9.5 & 3 & 8.090 & 0 & HMDB02039\\\\\n",
       "\t140 & 3.425 & 3.385 & Baseline Fitting & 2-Pyrrolidinone                             &  3 & 3.405 & 0.015 & 9.5 & 3 & 6.950 & 0 & HMDB02039\\\\\n",
       "\t141 & 3.645 & 3.605 & Baseline Fitting & 2.3-Butanediol                              &  2 & 3.625 & 0.015 & 9.5 & 1 & 0.000 & 0 & HMDB03156\\\\\n",
       "\t142 & 3.415 & 3.375 & Baseline Fitting & 2.3-Diaminopropionic acid                   &  1 & 3.395 & 0.015 & 9.5 & 1 & 0.000 & 0 & HMDB02006\\\\\n",
       "\t143 & 3.955 & 3.915 & Baseline Fitting & 2.3-Diaminopropionic acid                   &  2 & 3.935 & 0.015 & 9.5 & 1 & 0.000 & 0 & HMDB02006\\\\\n",
       "\t144 & 4.065 & 4.025 & Baseline Fitting & 2.3-Diphosphoglyceric acid                  &  1 & 4.045 & 0.015 & 9.5 & 1 & 0.000 & 0 & HMDB01294\\\\\n",
       "\t145 & 7.235 & 7.195 & Baseline Fitting & 2.4-Dichlorophenol                          &  2 & 7.215 & 0.015 & 9.5 & 2 & 8.750 & 0 & HMDB04811\\\\\n",
       "\t146 & 7.465 & 7.425 & Baseline Fitting & 2.4-Dichlorophenol                          &  3 & 7.445 & 0.015 & 9.5 & 2 & 2.530 & 0 & HMDB04811\\\\\n",
       "\t147 & 2.715 & 2.675 & Baseline Fitting & 3-(3-Hydroxyphenyl)-3-hydroxypropanoic acid &  1 & 2.695 & 0.015 & 9.5 & 1 & 0.000 & 0 & HMDB02643\\\\\n",
       "\t148 & 6.875 & 6.835 & Baseline Fitting & 3-(3-Hydroxyphenyl)-3-hydroxypropanoic acid &  3 & 6.855 & 0.015 & 9.5 & 1 & 0.000 & 0 & HMDB02643\\\\\n",
       "\t149 & 6.945 & 6.905 & Baseline Fitting & 3-(3-Hydroxyphenyl)-3-hydroxypropanoic acid &  4 & 6.925 & 0.015 & 9.5 & 1 & 0.000 & 0 & HMDB02643\\\\\n",
       "\t150 & 1.239 & 1.199 & Baseline Fitting & 3-Hydroxybutyric acid                       &  1 & 1.219 & 0.015 & 9.5 & 2 & 6.262 & 0 & HMDB00357\\\\\n",
       "\\end{tabular}\n"
      ],
      "text/markdown": [
       "\n",
       "A data.frame: 75 × 12\n",
       "\n",
       "| <!--/--> | ROI.left.edge &lt;dbl&gt; | ROI.right.edge &lt;dbl&gt; | Quantification.Mode &lt;fct&gt; | Metabolite &lt;fct&gt; | Quantification.Signal &lt;int&gt; | Chemical.shift &lt;dbl&gt; | Chemical.shift.tolerance &lt;dbl&gt; | Half.bandwidth &lt;dbl&gt; | Multiplicity &lt;int&gt; | J.coupling &lt;dbl&gt; | Roof.effect &lt;int&gt; | HMDB.code &lt;fct&gt; |\n",
       "|---|---|---|---|---|---|---|---|---|---|---|---|---|\n",
       "| 76 | 2.295 | 2.255 | Baseline Fitting | 17a-Estradiol                  | 10 | 2.275 | 0.015 | 9.5 | 1 | 0.00 | 0 | HMDB00429 |\n",
       "| 77 | 2.785 | 2.745 | Baseline Fitting | 17a-Estradiol                  | 11 | 2.765 | 0.015 | 9.5 | 1 | 0.00 | 0 | HMDB00429 |\n",
       "| 78 | 3.685 | 3.645 | Baseline Fitting | 17a-Estradiol                  | 12 | 3.665 | 0.015 | 9.5 | 3 | 8.67 | 0 | HMDB00429 |\n",
       "| 79 | 7.105 | 7.065 | Baseline Fitting | 17a-Estradiol                  | 15 | 7.085 | 0.015 | 9.5 | 2 | 8.47 | 0 | HMDB00429 |\n",
       "| 80 | 1.755 | 1.715 | Baseline Fitting | 17a-Ethynylestradiol           |  3 | 1.735 | 0.015 | 9.5 | 1 | 0.00 | 0 | HMDB01926 |\n",
       "| 81 | 1.825 | 1.785 | Baseline Fitting | 17a-Ethynylestradiol           |  4 | 1.805 | 0.015 | 9.5 | 1 | 0.00 | 0 | HMDB01926 |\n",
       "| 82 | 2.065 | 2.025 | Baseline Fitting | 17a-Ethynylestradiol           |  6 | 2.045 | 0.015 | 9.5 | 1 | 0.00 | 0 | HMDB01926 |\n",
       "| 83 | 2.255 | 2.215 | Baseline Fitting | 17a-Ethynylestradiol           |  7 | 2.235 | 0.015 | 9.5 | 1 | 0.00 | 0 | HMDB01926 |\n",
       "| 84 | 2.385 | 2.345 | Baseline Fitting | 17a-Ethynylestradiol           |  8 | 2.365 | 0.015 | 9.5 | 1 | 0.00 | 0 | HMDB01926 |\n",
       "| 85 | 2.645 | 2.605 | Baseline Fitting | 17a-Ethynylestradiol           |  9 | 2.625 | 0.015 | 9.5 | 1 | 0.00 | 0 | HMDB01926 |\n",
       "| 86 | 2.875 | 2.835 | Baseline Fitting | 17a-Ethynylestradiol           | 10 | 2.855 | 0.015 | 9.5 | 1 | 0.00 | 0 | HMDB01926 |\n",
       "| 87 | 0.895 | 0.855 | Baseline Fitting | 17a-Hydroxypregnenolone        |  2 | 0.875 | 0.015 | 9.5 | 1 | 0.00 | 0 | HMDB00363 |\n",
       "| 88 | 0.975 | 0.935 | Baseline Fitting | 17a-Hydroxypregnenolone        |  3 | 0.955 | 0.015 | 9.5 | 1 | 0.00 | 0 | HMDB00363 |\n",
       "| 89 | 0.995 | 0.955 | Baseline Fitting | 17a-Hydroxypregnenolone        |  4 | 0.975 | 0.015 | 9.5 | 1 | 0.00 | 0 | HMDB00363 |\n",
       "| 90 | 1.375 | 1.335 | Baseline Fitting | 17a-Hydroxypregnenolone        |  6 | 1.355 | 0.015 | 9.5 | 1 | 0.00 | 0 | HMDB00363 |\n",
       "| 91 | 1.555 | 1.515 | Baseline Fitting | 17a-Hydroxypregnenolone        |  7 | 1.535 | 0.015 | 9.5 | 1 | 0.00 | 0 | HMDB00363 |\n",
       "| 92 | 1.995 | 1.955 | Baseline Fitting | 17a-Hydroxypregnenolone        |  9 | 1.975 | 0.015 | 9.5 | 1 | 0.00 | 0 | HMDB00363 |\n",
       "| 93 | 2.125 | 2.085 | Baseline Fitting | 17a-Hydroxypregnenolone        | 10 | 2.105 | 0.015 | 9.5 | 1 | 0.00 | 0 | HMDB00363 |\n",
       "| 94 | 2.555 | 2.515 | Baseline Fitting | 17a-Hydroxypregnenolone        | 11 | 2.535 | 0.015 | 9.5 | 1 | 0.00 | 0 | HMDB00363 |\n",
       "| 95 | 3.265 | 3.225 | Baseline Fitting | 17a-Hydroxypregnenolone        | 12 | 3.245 | 0.015 | 9.5 | 1 | 0.00 | 0 | HMDB00363 |\n",
       "| 96 | 6.845 | 6.805 | Baseline Fitting | 2-Aminobenzoic acid            |  1 | 6.825 | 0.015 | 9.5 | 1 | 0.00 | 0 | HMDB01123 |\n",
       "| 97 | 6.885 | 6.845 | Baseline Fitting | 2-Aminobenzoic acid            |  2 | 6.865 | 0.015 | 9.5 | 1 | 0.00 | 0 | HMDB01123 |\n",
       "| 98 | 3.975 | 3.935 | Baseline Fitting | 2-Furoylglycine                |  1 | 3.955 | 0.015 | 9.5 | 2 | 5.93 | 0 | HMDB00439 |\n",
       "| 99 | 0.985 | 0.945 | Baseline Fitting | 2-Hydroxy-2-methylbutyric acid |  1 | 0.965 | 0.015 | 9.5 | 3 | 7.44 | 0 | HMDB01987 |\n",
       "| 100 | 1.755 | 1.715 | Baseline Fitting | 2-Hydroxy-2-methylbutyric acid |  3 | 1.735 | 0.015 | 9.5 | 1 | 0.00 | 0 | HMDB01987 |\n",
       "| 101 | 0.985 | 0.945 | Baseline Fitting | 2-Hydroxy-3-methylbutyric acid |  5 | 0.965 | 0.015 | 9.5 | 2 | 6.96 | 0 | HMDB00407 |\n",
       "| 102 | 2.045 | 2.005 | Baseline Fitting | 2-Hydroxy-3-methylbutyric acid |  6 | 2.025 | 0.015 | 9.5 | 1 | 0.00 | 0 | HMDB00407 |\n",
       "| 103 | 1.805 | 1.765 | Baseline Fitting | 2-Hydroxyadipic acid           |  2 | 1.785 | 0.015 | 9.5 | 1 | 0.00 | 0 | HMDB00321 |\n",
       "| 104 | 2.415 | 2.375 | Baseline Fitting | 2-Hydroxyadipic acid           |  3 | 2.395 | 0.015 | 9.5 | 1 | 0.00 | 0 | HMDB00321 |\n",
       "| 105 | 4.155 | 4.115 | Baseline Fitting | 2-Hydroxyadipic acid           |  4 | 4.135 | 0.015 | 9.5 | 1 | 0.00 | 0 | HMDB00321 |\n",
       "| ⋮ | ⋮ | ⋮ | ⋮ | ⋮ | ⋮ | ⋮ | ⋮ | ⋮ | ⋮ | ⋮ | ⋮ | ⋮ |\n",
       "| 121 | 1.585 | 1.545 | Baseline Fitting | 2-Methoxyestradiol                          |  4 | 1.565 | 0.015 | 9.5 | 1 | 0.000 | 0 | HMDB00405 |\n",
       "| 122 | 1.775 | 1.735 | Baseline Fitting | 2-Methoxyestradiol                          |  5 | 1.755 | 0.015 | 9.5 | 1 | 0.000 | 0 | HMDB00405 |\n",
       "| 123 | 2.085 | 2.045 | Baseline Fitting | 2-Methoxyestradiol                          |  7 | 2.065 | 0.015 | 9.5 | 1 | 0.000 | 0 | HMDB00405 |\n",
       "| 124 | 2.285 | 2.245 | Baseline Fitting | 2-Methoxyestradiol                          |  8 | 2.265 | 0.015 | 9.5 | 1 | 0.000 | 0 | HMDB00405 |\n",
       "| 125 | 2.655 | 2.615 | Baseline Fitting | 2-Methoxyestradiol                          |  9 | 2.635 | 0.015 | 9.5 | 1 | 0.000 | 0 | HMDB00405 |\n",
       "| 126 | 3.545 | 3.505 | Baseline Fitting | 2-Methoxyestradiol                          | 10 | 3.525 | 0.015 | 9.5 | 1 | 0.000 | 0 | HMDB00405 |\n",
       "| 127 | 1.475 | 1.435 | Baseline Fitting | 2-Methoxyestrone                            |  3 | 1.455 | 0.015 | 9.5 | 1 | 0.000 | 0 | HMDB00010 |\n",
       "| 128 | 1.595 | 1.555 | Baseline Fitting | 2-Methoxyestrone                            |  4 | 1.575 | 0.015 | 9.5 | 1 | 0.000 | 0 | HMDB00010 |\n",
       "| 129 | 1.785 | 1.745 | Baseline Fitting | 2-Methoxyestrone                            |  5 | 1.765 | 0.015 | 9.5 | 1 | 0.000 | 0 | HMDB00010 |\n",
       "| 130 | 2.065 | 2.025 | Baseline Fitting | 2-Methoxyestrone                            |  7 | 2.045 | 0.015 | 9.5 | 1 | 0.000 | 0 | HMDB00010 |\n",
       "| 131 | 2.175 | 2.135 | Baseline Fitting | 2-Methoxyestrone                            |  8 | 2.155 | 0.015 | 9.5 | 1 | 0.000 | 0 | HMDB00010 |\n",
       "| 132 | 2.375 | 2.335 | Baseline Fitting | 2-Methoxyestrone                            |  9 | 2.355 | 0.015 | 9.5 | 1 | 0.000 | 0 | HMDB00010 |\n",
       "| 133 | 2.445 | 2.405 | Baseline Fitting | 2-Methoxyestrone                            | 10 | 2.425 | 0.015 | 9.5 | 1 | 0.000 | 0 | HMDB00010 |\n",
       "| 134 | 2.415 | 2.375 | Baseline Fitting | 2-Methylhippuric acid                       |  1 | 2.395 | 0.015 | 9.5 | 1 | 0.000 | 0 | HMDB11723 |\n",
       "| 135 | 4.065 | 4.025 | Baseline Fitting | 2-Methylhippuric acid                       |  2 | 4.045 | 0.015 | 9.5 | 2 | 5.860 | 0 | HMDB11723 |\n",
       "| 136 | 7.465 | 7.425 | Baseline Fitting | 2-Methylhippuric acid                       |  4 | 7.445 | 0.015 | 9.5 | 1 | 0.000 | 0 | HMDB11723 |\n",
       "| 137 | 7.475 | 7.435 | Baseline Fitting | 2-Phenylglycine                             |  1 | 7.455 | 0.015 | 9.5 | 1 | 0.000 | 0 | HMDB02210 |\n",
       "| 138 | 7.515 | 7.475 | Baseline Fitting | 2-Phenylglycine                             |  2 | 7.495 | 0.015 | 9.5 | 1 | 0.000 | 0 | HMDB02210 |\n",
       "| 139 | 2.325 | 2.285 | Baseline Fitting | 2-Pyrrolidinone                             |  2 | 2.305 | 0.015 | 9.5 | 3 | 8.090 | 0 | HMDB02039 |\n",
       "| 140 | 3.425 | 3.385 | Baseline Fitting | 2-Pyrrolidinone                             |  3 | 3.405 | 0.015 | 9.5 | 3 | 6.950 | 0 | HMDB02039 |\n",
       "| 141 | 3.645 | 3.605 | Baseline Fitting | 2.3-Butanediol                              |  2 | 3.625 | 0.015 | 9.5 | 1 | 0.000 | 0 | HMDB03156 |\n",
       "| 142 | 3.415 | 3.375 | Baseline Fitting | 2.3-Diaminopropionic acid                   |  1 | 3.395 | 0.015 | 9.5 | 1 | 0.000 | 0 | HMDB02006 |\n",
       "| 143 | 3.955 | 3.915 | Baseline Fitting | 2.3-Diaminopropionic acid                   |  2 | 3.935 | 0.015 | 9.5 | 1 | 0.000 | 0 | HMDB02006 |\n",
       "| 144 | 4.065 | 4.025 | Baseline Fitting | 2.3-Diphosphoglyceric acid                  |  1 | 4.045 | 0.015 | 9.5 | 1 | 0.000 | 0 | HMDB01294 |\n",
       "| 145 | 7.235 | 7.195 | Baseline Fitting | 2.4-Dichlorophenol                          |  2 | 7.215 | 0.015 | 9.5 | 2 | 8.750 | 0 | HMDB04811 |\n",
       "| 146 | 7.465 | 7.425 | Baseline Fitting | 2.4-Dichlorophenol                          |  3 | 7.445 | 0.015 | 9.5 | 2 | 2.530 | 0 | HMDB04811 |\n",
       "| 147 | 2.715 | 2.675 | Baseline Fitting | 3-(3-Hydroxyphenyl)-3-hydroxypropanoic acid |  1 | 2.695 | 0.015 | 9.5 | 1 | 0.000 | 0 | HMDB02643 |\n",
       "| 148 | 6.875 | 6.835 | Baseline Fitting | 3-(3-Hydroxyphenyl)-3-hydroxypropanoic acid |  3 | 6.855 | 0.015 | 9.5 | 1 | 0.000 | 0 | HMDB02643 |\n",
       "| 149 | 6.945 | 6.905 | Baseline Fitting | 3-(3-Hydroxyphenyl)-3-hydroxypropanoic acid |  4 | 6.925 | 0.015 | 9.5 | 1 | 0.000 | 0 | HMDB02643 |\n",
       "| 150 | 1.239 | 1.199 | Baseline Fitting | 3-Hydroxybutyric acid                       |  1 | 1.219 | 0.015 | 9.5 | 2 | 6.262 | 0 | HMDB00357 |\n",
       "\n"
      ],
      "text/plain": [
       "       ROI.left.edge ROI.right.edge Quantification.Mode\n",
       "76     2.295         2.255          Baseline Fitting   \n",
       "77     2.785         2.745          Baseline Fitting   \n",
       "78     3.685         3.645          Baseline Fitting   \n",
       "79     7.105         7.065          Baseline Fitting   \n",
       "80     1.755         1.715          Baseline Fitting   \n",
       "81     1.825         1.785          Baseline Fitting   \n",
       "82     2.065         2.025          Baseline Fitting   \n",
       "83     2.255         2.215          Baseline Fitting   \n",
       "84     2.385         2.345          Baseline Fitting   \n",
       "85     2.645         2.605          Baseline Fitting   \n",
       "86     2.875         2.835          Baseline Fitting   \n",
       "87     0.895         0.855          Baseline Fitting   \n",
       "88     0.975         0.935          Baseline Fitting   \n",
       "89     0.995         0.955          Baseline Fitting   \n",
       "90     1.375         1.335          Baseline Fitting   \n",
       "91     1.555         1.515          Baseline Fitting   \n",
       "92     1.995         1.955          Baseline Fitting   \n",
       "93     2.125         2.085          Baseline Fitting   \n",
       "94     2.555         2.515          Baseline Fitting   \n",
       "95     3.265         3.225          Baseline Fitting   \n",
       "96     6.845         6.805          Baseline Fitting   \n",
       "97     6.885         6.845          Baseline Fitting   \n",
       "98     3.975         3.935          Baseline Fitting   \n",
       "99     0.985         0.945          Baseline Fitting   \n",
       "100    1.755         1.715          Baseline Fitting   \n",
       "101    0.985         0.945          Baseline Fitting   \n",
       "102    2.045         2.005          Baseline Fitting   \n",
       "103    1.805         1.765          Baseline Fitting   \n",
       "104    2.415         2.375          Baseline Fitting   \n",
       "105    4.155         4.115          Baseline Fitting   \n",
       "<U+22EE> <U+22EE>      <U+22EE>       <U+22EE>           \n",
       "121    1.585         1.545          Baseline Fitting   \n",
       "122    1.775         1.735          Baseline Fitting   \n",
       "123    2.085         2.045          Baseline Fitting   \n",
       "124    2.285         2.245          Baseline Fitting   \n",
       "125    2.655         2.615          Baseline Fitting   \n",
       "126    3.545         3.505          Baseline Fitting   \n",
       "127    1.475         1.435          Baseline Fitting   \n",
       "128    1.595         1.555          Baseline Fitting   \n",
       "129    1.785         1.745          Baseline Fitting   \n",
       "130    2.065         2.025          Baseline Fitting   \n",
       "131    2.175         2.135          Baseline Fitting   \n",
       "132    2.375         2.335          Baseline Fitting   \n",
       "133    2.445         2.405          Baseline Fitting   \n",
       "134    2.415         2.375          Baseline Fitting   \n",
       "135    4.065         4.025          Baseline Fitting   \n",
       "136    7.465         7.425          Baseline Fitting   \n",
       "137    7.475         7.435          Baseline Fitting   \n",
       "138    7.515         7.475          Baseline Fitting   \n",
       "139    2.325         2.285          Baseline Fitting   \n",
       "140    3.425         3.385          Baseline Fitting   \n",
       "141    3.645         3.605          Baseline Fitting   \n",
       "142    3.415         3.375          Baseline Fitting   \n",
       "143    3.955         3.915          Baseline Fitting   \n",
       "144    4.065         4.025          Baseline Fitting   \n",
       "145    7.235         7.195          Baseline Fitting   \n",
       "146    7.465         7.425          Baseline Fitting   \n",
       "147    2.715         2.675          Baseline Fitting   \n",
       "148    6.875         6.835          Baseline Fitting   \n",
       "149    6.945         6.905          Baseline Fitting   \n",
       "150    1.239         1.199          Baseline Fitting   \n",
       "       Metabolite                                  Quantification.Signal\n",
       "76     17a-Estradiol                               10                   \n",
       "77     17a-Estradiol                               11                   \n",
       "78     17a-Estradiol                               12                   \n",
       "79     17a-Estradiol                               15                   \n",
       "80     17a-Ethynylestradiol                         3                   \n",
       "81     17a-Ethynylestradiol                         4                   \n",
       "82     17a-Ethynylestradiol                         6                   \n",
       "83     17a-Ethynylestradiol                         7                   \n",
       "84     17a-Ethynylestradiol                         8                   \n",
       "85     17a-Ethynylestradiol                         9                   \n",
       "86     17a-Ethynylestradiol                        10                   \n",
       "87     17a-Hydroxypregnenolone                      2                   \n",
       "88     17a-Hydroxypregnenolone                      3                   \n",
       "89     17a-Hydroxypregnenolone                      4                   \n",
       "90     17a-Hydroxypregnenolone                      6                   \n",
       "91     17a-Hydroxypregnenolone                      7                   \n",
       "92     17a-Hydroxypregnenolone                      9                   \n",
       "93     17a-Hydroxypregnenolone                     10                   \n",
       "94     17a-Hydroxypregnenolone                     11                   \n",
       "95     17a-Hydroxypregnenolone                     12                   \n",
       "96     2-Aminobenzoic acid                          1                   \n",
       "97     2-Aminobenzoic acid                          2                   \n",
       "98     2-Furoylglycine                              1                   \n",
       "99     2-Hydroxy-2-methylbutyric acid               1                   \n",
       "100    2-Hydroxy-2-methylbutyric acid               3                   \n",
       "101    2-Hydroxy-3-methylbutyric acid               5                   \n",
       "102    2-Hydroxy-3-methylbutyric acid               6                   \n",
       "103    2-Hydroxyadipic acid                         2                   \n",
       "104    2-Hydroxyadipic acid                         3                   \n",
       "105    2-Hydroxyadipic acid                         4                   \n",
       "<U+22EE> <U+22EE>                                    <U+22EE>             \n",
       "121    2-Methoxyestradiol                           4                   \n",
       "122    2-Methoxyestradiol                           5                   \n",
       "123    2-Methoxyestradiol                           7                   \n",
       "124    2-Methoxyestradiol                           8                   \n",
       "125    2-Methoxyestradiol                           9                   \n",
       "126    2-Methoxyestradiol                          10                   \n",
       "127    2-Methoxyestrone                             3                   \n",
       "128    2-Methoxyestrone                             4                   \n",
       "129    2-Methoxyestrone                             5                   \n",
       "130    2-Methoxyestrone                             7                   \n",
       "131    2-Methoxyestrone                             8                   \n",
       "132    2-Methoxyestrone                             9                   \n",
       "133    2-Methoxyestrone                            10                   \n",
       "134    2-Methylhippuric acid                        1                   \n",
       "135    2-Methylhippuric acid                        2                   \n",
       "136    2-Methylhippuric acid                        4                   \n",
       "137    2-Phenylglycine                              1                   \n",
       "138    2-Phenylglycine                              2                   \n",
       "139    2-Pyrrolidinone                              2                   \n",
       "140    2-Pyrrolidinone                              3                   \n",
       "141    2.3-Butanediol                               2                   \n",
       "142    2.3-Diaminopropionic acid                    1                   \n",
       "143    2.3-Diaminopropionic acid                    2                   \n",
       "144    2.3-Diphosphoglyceric acid                   1                   \n",
       "145    2.4-Dichlorophenol                           2                   \n",
       "146    2.4-Dichlorophenol                           3                   \n",
       "147    3-(3-Hydroxyphenyl)-3-hydroxypropanoic acid  1                   \n",
       "148    3-(3-Hydroxyphenyl)-3-hydroxypropanoic acid  3                   \n",
       "149    3-(3-Hydroxyphenyl)-3-hydroxypropanoic acid  4                   \n",
       "150    3-Hydroxybutyric acid                        1                   \n",
       "       Chemical.shift Chemical.shift.tolerance Half.bandwidth Multiplicity\n",
       "76     2.275          0.015                    9.5            1           \n",
       "77     2.765          0.015                    9.5            1           \n",
       "78     3.665          0.015                    9.5            3           \n",
       "79     7.085          0.015                    9.5            2           \n",
       "80     1.735          0.015                    9.5            1           \n",
       "81     1.805          0.015                    9.5            1           \n",
       "82     2.045          0.015                    9.5            1           \n",
       "83     2.235          0.015                    9.5            1           \n",
       "84     2.365          0.015                    9.5            1           \n",
       "85     2.625          0.015                    9.5            1           \n",
       "86     2.855          0.015                    9.5            1           \n",
       "87     0.875          0.015                    9.5            1           \n",
       "88     0.955          0.015                    9.5            1           \n",
       "89     0.975          0.015                    9.5            1           \n",
       "90     1.355          0.015                    9.5            1           \n",
       "91     1.535          0.015                    9.5            1           \n",
       "92     1.975          0.015                    9.5            1           \n",
       "93     2.105          0.015                    9.5            1           \n",
       "94     2.535          0.015                    9.5            1           \n",
       "95     3.245          0.015                    9.5            1           \n",
       "96     6.825          0.015                    9.5            1           \n",
       "97     6.865          0.015                    9.5            1           \n",
       "98     3.955          0.015                    9.5            2           \n",
       "99     0.965          0.015                    9.5            3           \n",
       "100    1.735          0.015                    9.5            1           \n",
       "101    0.965          0.015                    9.5            2           \n",
       "102    2.025          0.015                    9.5            1           \n",
       "103    1.785          0.015                    9.5            1           \n",
       "104    2.395          0.015                    9.5            1           \n",
       "105    4.135          0.015                    9.5            1           \n",
       "<U+22EE> <U+22EE>       <U+22EE>                 <U+22EE>       <U+22EE>    \n",
       "121    1.565          0.015                    9.5            1           \n",
       "122    1.755          0.015                    9.5            1           \n",
       "123    2.065          0.015                    9.5            1           \n",
       "124    2.265          0.015                    9.5            1           \n",
       "125    2.635          0.015                    9.5            1           \n",
       "126    3.525          0.015                    9.5            1           \n",
       "127    1.455          0.015                    9.5            1           \n",
       "128    1.575          0.015                    9.5            1           \n",
       "129    1.765          0.015                    9.5            1           \n",
       "130    2.045          0.015                    9.5            1           \n",
       "131    2.155          0.015                    9.5            1           \n",
       "132    2.355          0.015                    9.5            1           \n",
       "133    2.425          0.015                    9.5            1           \n",
       "134    2.395          0.015                    9.5            1           \n",
       "135    4.045          0.015                    9.5            2           \n",
       "136    7.445          0.015                    9.5            1           \n",
       "137    7.455          0.015                    9.5            1           \n",
       "138    7.495          0.015                    9.5            1           \n",
       "139    2.305          0.015                    9.5            3           \n",
       "140    3.405          0.015                    9.5            3           \n",
       "141    3.625          0.015                    9.5            1           \n",
       "142    3.395          0.015                    9.5            1           \n",
       "143    3.935          0.015                    9.5            1           \n",
       "144    4.045          0.015                    9.5            1           \n",
       "145    7.215          0.015                    9.5            2           \n",
       "146    7.445          0.015                    9.5            2           \n",
       "147    2.695          0.015                    9.5            1           \n",
       "148    6.855          0.015                    9.5            1           \n",
       "149    6.925          0.015                    9.5            1           \n",
       "150    1.219          0.015                    9.5            2           \n",
       "       J.coupling Roof.effect HMDB.code\n",
       "76     0.00       0           HMDB00429\n",
       "77     0.00       0           HMDB00429\n",
       "78     8.67       0           HMDB00429\n",
       "79     8.47       0           HMDB00429\n",
       "80     0.00       0           HMDB01926\n",
       "81     0.00       0           HMDB01926\n",
       "82     0.00       0           HMDB01926\n",
       "83     0.00       0           HMDB01926\n",
       "84     0.00       0           HMDB01926\n",
       "85     0.00       0           HMDB01926\n",
       "86     0.00       0           HMDB01926\n",
       "87     0.00       0           HMDB00363\n",
       "88     0.00       0           HMDB00363\n",
       "89     0.00       0           HMDB00363\n",
       "90     0.00       0           HMDB00363\n",
       "91     0.00       0           HMDB00363\n",
       "92     0.00       0           HMDB00363\n",
       "93     0.00       0           HMDB00363\n",
       "94     0.00       0           HMDB00363\n",
       "95     0.00       0           HMDB00363\n",
       "96     0.00       0           HMDB01123\n",
       "97     0.00       0           HMDB01123\n",
       "98     5.93       0           HMDB00439\n",
       "99     7.44       0           HMDB01987\n",
       "100    0.00       0           HMDB01987\n",
       "101    6.96       0           HMDB00407\n",
       "102    0.00       0           HMDB00407\n",
       "103    0.00       0           HMDB00321\n",
       "104    0.00       0           HMDB00321\n",
       "105    0.00       0           HMDB00321\n",
       "<U+22EE> <U+22EE>   <U+22EE>    <U+22EE> \n",
       "121    0.000      0           HMDB00405\n",
       "122    0.000      0           HMDB00405\n",
       "123    0.000      0           HMDB00405\n",
       "124    0.000      0           HMDB00405\n",
       "125    0.000      0           HMDB00405\n",
       "126    0.000      0           HMDB00405\n",
       "127    0.000      0           HMDB00010\n",
       "128    0.000      0           HMDB00010\n",
       "129    0.000      0           HMDB00010\n",
       "130    0.000      0           HMDB00010\n",
       "131    0.000      0           HMDB00010\n",
       "132    0.000      0           HMDB00010\n",
       "133    0.000      0           HMDB00010\n",
       "134    0.000      0           HMDB11723\n",
       "135    5.860      0           HMDB11723\n",
       "136    0.000      0           HMDB11723\n",
       "137    0.000      0           HMDB02210\n",
       "138    0.000      0           HMDB02210\n",
       "139    8.090      0           HMDB02039\n",
       "140    6.950      0           HMDB02039\n",
       "141    0.000      0           HMDB03156\n",
       "142    0.000      0           HMDB02006\n",
       "143    0.000      0           HMDB02006\n",
       "144    0.000      0           HMDB01294\n",
       "145    8.750      0           HMDB04811\n",
       "146    2.530      0           HMDB04811\n",
       "147    0.000      0           HMDB02643\n",
       "148    0.000      0           HMDB02643\n",
       "149    0.000      0           HMDB02643\n",
       "150    6.262      0           HMDB00357"
      ]
     },
     "metadata": {},
     "output_type": "display_data"
    }
   ],
   "source": [
    "testdf <- as.data.frame(splitROI[2])\n",
    "names(testdf) <- c('ROI.left.edge', 'ROI.right.edge', 'Quantification.Mode', 'Metabolite',\n",
    "'Quantification.Signal', 'Chemical.shift', 'Chemical.shift.tolerance', 'Half.bandwidth',\n",
    "'Multiplicity', 'J.coupling', 'Roof.effect', 'HMDB.code')\n",
    "testdf"
   ]
  },
  {
   "cell_type": "code",
   "execution_count": 78,
   "metadata": {},
   "outputs": [],
   "source": [
    "setwd_ACI_path <- '/storage/home/mua447/work/Hall/HUNA/'"
   ]
  },
  {
   "cell_type": "code",
   "execution_count": 104,
   "metadata": {},
   "outputs": [],
   "source": [
    "list_ROI_split_path = c()\n",
    "for (i in 1:length(splitROI)){\n",
    "    split <- as.data.frame(splitROI[i])\n",
    "    names(split) <- c('ROI.left.edge', 'ROI.right.edge', 'Quantification.Mode', 'Metabolite',\n",
    "                       'Quantification.Signal', 'Chemical.shift', 'Chemical.shift.tolerance',\n",
    "                       'Half.bandwidth', 'Multiplicity', 'J.coupling', 'Roof.effect', 'HMDB.code')\n",
    "    n_of_numberofsplits <- paste(i, '_of_', N, sep='')\n",
    "    save_splits_path <- paste(setwd_path,data_set_root_dir, '/output/', data_set_root_dir, \n",
    "                               '_filtered_ROI_split_', n_of_numberofsplits, '.csv', sep='')\n",
    "    save_splits_path_for_ACI <- paste(setwd_ACI_path,data_set_root_dir, '/output/', data_set_root_dir, \n",
    "                               '_filtered_ROI_split_', n_of_numberofsplits, '.csv', sep='')\n",
    "    list_ROI_split_path <- c(list_ROI_split_path ,save_splits_path_for_ACI)\n",
    "    write.csv(split, file= save_splits_path, row.names=FALSE)\n",
    "}"
   ]
  },
  {
   "cell_type": "markdown",
   "metadata": {},
   "source": [
    "## Create MTBLS Metadata.csv for rDolphin"
   ]
  },
  {
   "cell_type": "code",
   "execution_count": 83,
   "metadata": {},
   "outputs": [
    {
     "data": {
      "text/html": [
       "699"
      ],
      "text/latex": [
       "699"
      ],
      "text/markdown": [
       "699"
      ],
      "text/plain": [
       "[1] 699"
      ]
     },
     "metadata": {},
     "output_type": "display_data"
    }
   ],
   "source": [
    "nmr_w_labels <- read.csv(file=bin500_for_sig_tests, header=TRUE, check.names=FALSE)\n",
    "Sample <- as.data.frame(nmr_w_labels$X)\n",
    "index_of_case <- which(nmr_w_labels[,phenotype_col] == case_label)\n",
    "index_of_control <- which(nmr_w_labels[,phenotype_col] == control_label)\n",
    "index_case_and_control <- c(index_of_case, index_of_control)\n",
    "Individual <- as.data.frame(index_case_and_control)\n",
    "nmr_case_control <- nmr_w_labels[index_case_and_control,]\n",
    "nrow(nmr_case_control)"
   ]
  },
  {
   "cell_type": "code",
   "execution_count": 84,
   "metadata": {},
   "outputs": [
    {
     "data": {
      "text/html": [
       "699"
      ],
      "text/latex": [
       "699"
      ],
      "text/markdown": [
       "699"
      ],
      "text/plain": [
       "[1] 699"
      ]
     },
     "metadata": {},
     "output_type": "display_data"
    }
   ],
   "source": [
    "nmr_case_control[,phenotype_col] <- as.character(nmr_case_control[,phenotype_col])\n",
    "sample_type_rdol <- sapply(nmr_case_control[,phenotype_col],switch,\n",
    "                      \"Metastatic\"=1, \"Early\"=0)\n",
    "sample_type_rdol <- as.data.frame(sample_type_rdol,)\n",
    "nrow(sample_type_rdol)"
   ]
  },
  {
   "cell_type": "code",
   "execution_count": 85,
   "metadata": {},
   "outputs": [
    {
     "data": {
      "text/html": [
       "<table>\n",
       "<caption>A data.frame: 6 × 3</caption>\n",
       "<thead>\n",
       "\t<tr><th scope=col>Sample</th><th scope=col>Individual</th><th scope=col>Sample Type</th></tr>\n",
       "\t<tr><th scope=col>&lt;int&gt;</th><th scope=col>&lt;int&gt;</th><th scope=col>&lt;dbl&gt;</th></tr>\n",
       "</thead>\n",
       "<tbody>\n",
       "\t<tr><td>15002</td><td>591</td><td>1</td></tr>\n",
       "\t<tr><td>15003</td><td>592</td><td>1</td></tr>\n",
       "\t<tr><td>15004</td><td>593</td><td>1</td></tr>\n",
       "\t<tr><td>15005</td><td>594</td><td>1</td></tr>\n",
       "\t<tr><td>15006</td><td>595</td><td>1</td></tr>\n",
       "\t<tr><td>15007</td><td>596</td><td>1</td></tr>\n",
       "</tbody>\n",
       "</table>\n"
      ],
      "text/latex": [
       "A data.frame: 6 × 3\n",
       "\\begin{tabular}{r|lll}\n",
       " Sample & Individual & Sample Type\\\\\n",
       " <int> & <int> & <dbl>\\\\\n",
       "\\hline\n",
       "\t 15002 & 591 & 1\\\\\n",
       "\t 15003 & 592 & 1\\\\\n",
       "\t 15004 & 593 & 1\\\\\n",
       "\t 15005 & 594 & 1\\\\\n",
       "\t 15006 & 595 & 1\\\\\n",
       "\t 15007 & 596 & 1\\\\\n",
       "\\end{tabular}\n"
      ],
      "text/markdown": [
       "\n",
       "A data.frame: 6 × 3\n",
       "\n",
       "| Sample &lt;int&gt; | Individual &lt;int&gt; | Sample Type &lt;dbl&gt; |\n",
       "|---|---|---|\n",
       "| 15002 | 591 | 1 |\n",
       "| 15003 | 592 | 1 |\n",
       "| 15004 | 593 | 1 |\n",
       "| 15005 | 594 | 1 |\n",
       "| 15006 | 595 | 1 |\n",
       "| 15007 | 596 | 1 |\n",
       "\n"
      ],
      "text/plain": [
       "  Sample Individual Sample Type\n",
       "1 15002  591        1          \n",
       "2 15003  592        1          \n",
       "3 15004  593        1          \n",
       "4 15005  594        1          \n",
       "5 15006  595        1          \n",
       "6 15007  596        1          "
      ]
     },
     "metadata": {},
     "output_type": "display_data"
    }
   ],
   "source": [
    "df_metadata <- data.frame(Sample, Individual, sample_type_rdol)\n",
    "colnames(df_metadata)[3] <- \"Sample Type\"\n",
    "colnames(df_metadata)[2] <- \"Individual\"\n",
    "colnames(df_metadata)[1] <- \"Sample\"\n",
    "head(df_metadata)"
   ]
  },
  {
   "cell_type": "code",
   "execution_count": 86,
   "metadata": {},
   "outputs": [],
   "source": [
    "if (grepl(' ', case_label, fixed = TRUE)){\n",
    "    case_label <- gsub(\" \", \"_\", case_label)\n",
    "}\n",
    "if (grepl('-', case_label, fixed = TRUE)){\n",
    "    case_label <- gsub(\"-\", \"_\", case_label)\n",
    "}\n",
    "if (grepl('-', case_label, fixed = TRUE)){\n",
    "    control_label <- gsub(\"-\", \"_\", control_label)\n",
    "}\n",
    "if (grepl(' ', control_label, fixed = TRUE)){\n",
    "    control_label <- gsub(\" \", \"_\", control_label)\n",
    "}"
   ]
  },
  {
   "cell_type": "code",
   "execution_count": 105,
   "metadata": {},
   "outputs": [],
   "source": [
    "metadata_rdolphin_path <- paste(setwd_path, data_set_root_dir, '/output/', data_set_root_dir,\n",
    "                       '_metadata_', case_label, '_vs_', control_label, '.csv', sep='')\n",
    "write.csv(df_metadata, file= metadata_rdolphin_path, row.names=FALSE)"
   ]
  },
  {
   "cell_type": "code",
   "execution_count": 106,
   "metadata": {},
   "outputs": [],
   "source": [
    "sample_type <- tools::toTitleCase(sample_type)\n",
    "bin_width <- as.numeric(substring((colnames(nmr_w_labels)[2]), 2)) - as.numeric(substring((colnames(nmr_w_labels)[3]), 2))"
   ]
  },
  {
   "cell_type": "markdown",
   "metadata": {},
   "source": [
    "## Create Parameters.csv for rDolphin"
   ]
  },
  {
   "cell_type": "code",
   "execution_count": 107,
   "metadata": {},
   "outputs": [
    {
     "data": {
      "text/html": [
       "'/storage/home/mua447/work/Hall/HUNA/MTBLS424/output/MTBLS424_metadata_Metastatic_vs_Early.csv'"
      ],
      "text/latex": [
       "'/storage/home/mua447/work/Hall/HUNA/MTBLS424/output/MTBLS424\\_metadata\\_Metastatic\\_vs\\_Early.csv'"
      ],
      "text/markdown": [
       "'/storage/home/mua447/work/Hall/HUNA/MTBLS424/output/MTBLS424_metadata_Metastatic_vs_Early.csv'"
      ],
      "text/plain": [
       "[1] \"/storage/home/mua447/work/Hall/HUNA/MTBLS424/output/MTBLS424_metadata_Metastatic_vs_Early.csv\""
      ]
     },
     "metadata": {},
     "output_type": "display_data"
    }
   ],
   "source": [
    "metadata_rdolphin_path <- paste(setwd_ACI_path, data_set_root_dir, '/output/', data_set_root_dir,\n",
    "                                '_metadata_', case_label, '_vs_', control_label, '.csv', sep='')\n",
    "metadata_rdolphin_path"
   ]
  },
  {
   "cell_type": "code",
   "execution_count": 108,
   "metadata": {},
   "outputs": [],
   "source": [
    "rDolphin_nmr_input_path_Early_vs_Late_ACI <- '/storage/home/mua447/work/Hall/HUNA/MTBLS424/output/MTBLS424rDolphin_nmr_input_Early_vs_Late.csv'"
   ]
  },
  {
   "cell_type": "code",
   "execution_count": 109,
   "metadata": {},
   "outputs": [
    {
     "data": {
      "text/html": [
       "'/storage/home/mua447/work/Hall/HUNA/MTBLS424/output/MTBLS424_filtered_ROI_split_1_of_25.csv'"
      ],
      "text/latex": [
       "'/storage/home/mua447/work/Hall/HUNA/MTBLS424/output/MTBLS424\\_filtered\\_ROI\\_split\\_1\\_of\\_25.csv'"
      ],
      "text/markdown": [
       "'/storage/home/mua447/work/Hall/HUNA/MTBLS424/output/MTBLS424_filtered_ROI_split_1_of_25.csv'"
      ],
      "text/plain": [
       "[1] \"/storage/home/mua447/work/Hall/HUNA/MTBLS424/output/MTBLS424_filtered_ROI_split_1_of_25.csv\""
      ]
     },
     "metadata": {},
     "output_type": "display_data"
    }
   ],
   "source": [
    "list_ROI_split_path[1]"
   ]
  },
  {
   "cell_type": "code",
   "execution_count": 113,
   "metadata": {},
   "outputs": [],
   "source": [
    "# note to self, at the send of each step, open a txt file that contains the dir of the \n",
    "list_parameters_rdolphin_path_ACI <- c()\n",
    "for (i in 1:length(list_ROI_split_path)){\n",
    "    ROI_split_path <- list_ROI_split_path[i]\n",
    "    Parameter = c('nmr folder path','1D data index','proc_no','spectra dataset path (csv format)',\n",
    "                  'Metadata path (csv format)','ROI patterns file',\n",
    "                  'Normalization (0=No;1=Eretic; 2=TSP; 3=Creatinine; 4=Spectra Sum; 5=PQN)',\n",
    "                  'Alignment (0=No;1=Glucose; 2=TSP; 3=Formate)',\n",
    "                  'Suppression',\n",
    "                  'Spectrometer Frequency (MHz)',\n",
    "                  'Bucket resolution',\n",
    "                  'Biofluid',\n",
    "                  '2D-Path',\n",
    "                  'Specific program parameters')\n",
    "    Value = c('','','',rDolphin_nmr_input_path_Early_vs_Late_ACI, metadata_rdolphin_path, \n",
    "              ROI_split_path,\n",
    "              0, 0, '', 699.87, bin_width,\n",
    "              sample_type, '', '')\n",
    "\n",
    "    df = data.frame(Parameter, Value)\n",
    "    n_of_numberofsplits <- paste(i, '_of_', N, sep='')\n",
    "    #save locally on laptop\n",
    "    parameters_rdolphin_path <- paste(setwd_path, data_set_root_dir, '/input/', data_set_root_dir,\n",
    "                                      '_', case_label, '_vs_', control_label,'_rdolphin_parameters_',\n",
    "                                      n_of_numberofsplits, '.csv', sep='')\n",
    "    parameters_rdolphin_path_ACI <- paste(setwd_ACI_path, data_set_root_dir, '/input/', \n",
    "                                          data_set_root_dir, '_', case_label, '_vs_',\n",
    "                                          control_label,'_rdolphin_parameters_',\n",
    "                                          n_of_numberofsplits, '.csv', sep='')\n",
    "    list_parameters_rdolphin_path_ACI <- c(list_parameters_rdolphin_path_ACI,\n",
    "                                           parameters_rdolphin_path_ACI)\n",
    "    write.csv(df, file= parameters_rdolphin_path, row.names=FALSE)\n",
    "}"
   ]
  },
  {
   "cell_type": "markdown",
   "metadata": {},
   "source": [
    "## Create R script to Run rDolphin"
   ]
  },
  {
   "cell_type": "code",
   "execution_count": 117,
   "metadata": {},
   "outputs": [],
   "source": [
    "one <- 'library(rDolphin)\n",
    "print(\"rDolphin Loaded\")\n",
    "print(\"working directory set\")\n",
    "'\n",
    "three <- 'imported_data = import_data(\"'\n",
    "\n",
    "# add the parameters csv file list here\n",
    "three.2 <- '\")'\n",
    "four <- '\n",
    "print(\"imported data successfully\")\n",
    "median_plot = median_plot(imported_data)\n",
    "print(\"median plot processed successfully\")\n",
    "profiling_data = automatic_profiling(imported_data, imported_data$ROI_data)\n",
    "print(\"*****************************\")\n",
    "print(\"*******Profiling Done********\")\n",
    "print(\"*****************************\")\n",
    "'\n",
    "\n",
    "five <- 'write_info(\"'\n",
    "# add the data_set_root_dir only\n",
    "five.2 <- '/storage/home/mua447/work/Hall/HUNA/MTBLS424/output/rDolphin_quantification_results/'\n",
    "\n",
    "six <- '\", profiling_data$final_output, imported_data$ROI_data)\n",
    "print(\"writing info successfully\")'\n",
    "\n",
    "seven <- 'save(imported_data, profiling_data, file = \"'\n",
    "# add the data_set_root_dir only\n",
    "\n",
    "# add the data_set_root_dir only\n",
    "nine <- '.RData\")\n",
    "print(\"saved R session profile data.\")'"
   ]
  },
  {
   "cell_type": "code",
   "execution_count": 120,
   "metadata": {},
   "outputs": [],
   "source": [
    "for (i in 1:length(list_parameters_rdolphin_path_ACI)){\n",
    "    n_of_total <- paste(i, '_of_', length(list_parameters_rdolphin_path_ACI), sep='')\n",
    "    rDolphin_Rscript <- paste(one, three, list_parameters_rdolphin_path_ACI[i], three.2,\n",
    "                              four, five, five.2, n_of_total, six,\n",
    "                              seven, five.2, n_of_total,\n",
    "                              nine, sep='')\n",
    "    Rscript_path <- paste(setwd_path, data_set_root_dir,'/scripts/', data_set_root_dir,\n",
    "                      '_rDolphin_Script_',\n",
    "                      case_label, '_vs_', control_label, '_', n_of_total, '.R',\n",
    "                      sep='')\n",
    "    fileConn<-file(paste(Rscript_path,sep=''))\n",
    "    writeLines(c(rDolphin_Rscript), fileConn)\n",
    "    close(fileConn)\n",
    "}"
   ]
  },
  {
   "cell_type": "code",
   "execution_count": null,
   "metadata": {},
   "outputs": [],
   "source": []
  }
 ],
 "metadata": {
  "kernelspec": {
   "display_name": "R",
   "language": "R",
   "name": "ir"
  },
  "language_info": {
   "codemirror_mode": "r",
   "file_extension": ".r",
   "mimetype": "text/x-r-source",
   "name": "R",
   "pygments_lexer": "r",
   "version": "3.6.3"
  }
 },
 "nbformat": 4,
 "nbformat_minor": 2
}
