{
 "cells": [
  {
   "cell_type": "markdown",
   "metadata": {},
   "source": [
    "## Initialize shared variables"
   ]
  },
  {
   "cell_type": "code",
   "execution_count": 1,
   "metadata": {},
   "outputs": [],
   "source": [
    "phenotype_col <- 'Factor_Value_Treatment'\n",
    "case_label <- \"E-NP-D nanoparticle\"\n",
    "control_label <- \"control\""
   ]
  },
  {
   "cell_type": "code",
   "execution_count": 2,
   "metadata": {},
   "outputs": [
    {
     "name": "stdout",
     "output_type": "stream",
     "text": [
      "[1] 31\n",
      "[1] \"assigned variables:\"\n",
      "[1] \"setwd_path\"\n",
      "[1] \"data_set_root_dir\"\n",
      "[1] \"path_to_fid\"\n",
      "[1] \"norm_bin_500_path\"\n",
      "[1] \"norm_bin_5000_path\"\n",
      "[1] \"bin500_for_sig_tests\"\n",
      "[1] \"figure_path\"\n",
      "[1] \"sample_labels_header\"\n",
      "[1] \"stat_results_data_path_Factor_Value_Treatment_vs_E_NP_DTS_nanoparticle\"\n",
      "[1] \"BonSig_Cohen_results_data_path_Factor_Value_Treatment_vs_E_NP_DTS_nanoparticle\"\n",
      "[1] \"stat_results_data_path_Factor_Value_Treatment_vs_E_NP_D_nanoparticle\"\n",
      "[1] \"BonSig_Cohen_results_data_path_Factor_Value_Treatment_vs_E_NP_D_nanoparticle\"\n",
      "[1] \"stat_results_data_path_Factor_Value_Treatment_vs_methoxypoly__ethylene_glycol___poly__lactide_co_glycolide__polylysine\"\n",
      "[1] \"BonSig_Cohen_results_data_path_Factor_Value_Treatment_vs_methoxypoly__ethylene_glycol___poly__lactide_co_glycolide__polylysine\"\n",
      "[1] \"stat_results_data_path_Factor_Value_Treatment_vs_E_NP_DT_nanoparticle\"\n",
      "[1] \"BonSig_Cohen_results_data_path_Factor_Value_Treatment_vs_E_NP_DT_nanoparticle\"\n",
      "[1] \"filtered_ROI_path_E_NP_D_nanoparticle_vs_control\"\n",
      "[1] \"sample_type\"\n",
      "[1] \"filtered_ROI_path_E_NP_DT_nanoparticle_vs_control\"\n",
      "[1] \"sample_type\"\n",
      "[1] \"filtered_ROI_path_E_NP_DTS_nanoparticle_vs_control\"\n",
      "[1] \"sample_type\"\n",
      "[1] \"filtered_ROI_path\"\n",
      "[1] \"sample_type\"\n",
      "[1] \"filtered_ROI_path_Methoxy_vs_control\"\n",
      "[1] \"sample_type\"\n",
      "[1] \"rDolphin_nmr_input_path_E_NP_D_nanoparticle_vs_control\"\n",
      "[1] \"rDolphin_nmr_input_path_E_NP_D_nanoparticle_vs_control\"\n",
      "[1] \"rDolphin_nmr_input_path_E_NP_DTS_nanoparticle_vs_control\"\n",
      "[1] \"rDolphin_nmr_input_path_E_NP_DT_nanoparticle_vs_control\"\n",
      "[1] \"rDolphin_nmr_input_path_methoxy_vs_control\"\n"
     ]
    }
   ],
   "source": [
    "huna_init <- read.csv('/Users/morris/Box/Hall_Lab/Projects/HUNA/MTBLS430/MTBLS430_init.csv',\n",
    "                      header=TRUE, check.names=FALSE)\n",
    "\n",
    "nrow <- nrow(huna_init)\n",
    "print(nrow)\n",
    "print('assigned variables:')\n",
    "for (i in 1:nrow){\n",
    "    assign(toString(huna_init$type[i]), toString(huna_init$path[i]))\n",
    "    print(toString(huna_init$type[i]))\n",
    "}"
   ]
  },
  {
   "cell_type": "code",
   "execution_count": 3,
   "metadata": {},
   "outputs": [],
   "source": [
    "#save <- (paste(setdir_path,'/',data_set_root_dir, '/', data_set_root_dir, '_init.csv', sep=''))\n",
    "#write.csv(huna_init_file, file= save, row.names=FALSE)"
   ]
  },
  {
   "cell_type": "markdown",
   "metadata": {},
   "source": [
    "## Create MTBLS Metadata.csv for rDolphin"
   ]
  },
  {
   "cell_type": "code",
   "execution_count": 4,
   "metadata": {},
   "outputs": [
    {
     "data": {
      "text/html": [
       "60"
      ],
      "text/latex": [
       "60"
      ],
      "text/markdown": [
       "60"
      ],
      "text/plain": [
       "[1] 60"
      ]
     },
     "metadata": {},
     "output_type": "display_data"
    }
   ],
   "source": [
    "nmr_w_labels <- read.csv(file=bin500_for_sig_tests, header=TRUE, check.names=FALSE)\n",
    "index_of_case <- which(nmr_w_labels[,phenotype_col] == case_label)\n",
    "index_of_control <- which(nmr_w_labels[,phenotype_col] == control_label)\n",
    "index_case_and_control <- c(index_of_case, index_of_control)\n",
    "Individual <- as.data.frame(index_case_and_control)\n",
    "nmr_case_control <- nmr_w_labels[index_case_and_control,]\n",
    "Sample <- as.data.frame(nmr_case_control$X)\n",
    "nrow(nmr_case_control)"
   ]
  },
  {
   "cell_type": "code",
   "execution_count": 5,
   "metadata": {},
   "outputs": [
    {
     "data": {
      "text/html": [
       "60"
      ],
      "text/latex": [
       "60"
      ],
      "text/markdown": [
       "60"
      ],
      "text/plain": [
       "[1] 60"
      ]
     },
     "metadata": {},
     "output_type": "display_data"
    }
   ],
   "source": [
    "nmr_case_control[,phenotype_col] <- as.character(nmr_case_control[,phenotype_col])\n",
    "sample_type_rdol <- sapply(nmr_case_control[,phenotype_col],switch,\n",
    "                      \"E-NP-D nanoparticle\"=1, \"control\"=0)\n",
    "sample_type_rdol <- as.data.frame(sample_type_rdol,)\n",
    "nrow(sample_type_rdol)"
   ]
  },
  {
   "cell_type": "code",
   "execution_count": 6,
   "metadata": {},
   "outputs": [
    {
     "data": {
      "text/html": [
       "<table>\n",
       "<caption>A data.frame: 6 × 3</caption>\n",
       "<thead>\n",
       "\t<tr><th scope=col>Sample</th><th scope=col>Individual</th><th scope=col>Sample Type</th></tr>\n",
       "\t<tr><th scope=col>&lt;int&gt;</th><th scope=col>&lt;int&gt;</th><th scope=col>&lt;dbl&gt;</th></tr>\n",
       "</thead>\n",
       "<tbody>\n",
       "\t<tr><td>1301</td><td>21</td><td>1</td></tr>\n",
       "\t<tr><td>1302</td><td>22</td><td>1</td></tr>\n",
       "\t<tr><td>1303</td><td>23</td><td>1</td></tr>\n",
       "\t<tr><td>1304</td><td>24</td><td>1</td></tr>\n",
       "\t<tr><td>1305</td><td>25</td><td>1</td></tr>\n",
       "\t<tr><td>1306</td><td>26</td><td>1</td></tr>\n",
       "</tbody>\n",
       "</table>\n"
      ],
      "text/latex": [
       "A data.frame: 6 × 3\n",
       "\\begin{tabular}{r|lll}\n",
       " Sample & Individual & Sample Type\\\\\n",
       " <int> & <int> & <dbl>\\\\\n",
       "\\hline\n",
       "\t 1301 & 21 & 1\\\\\n",
       "\t 1302 & 22 & 1\\\\\n",
       "\t 1303 & 23 & 1\\\\\n",
       "\t 1304 & 24 & 1\\\\\n",
       "\t 1305 & 25 & 1\\\\\n",
       "\t 1306 & 26 & 1\\\\\n",
       "\\end{tabular}\n"
      ],
      "text/markdown": [
       "\n",
       "A data.frame: 6 × 3\n",
       "\n",
       "| Sample &lt;int&gt; | Individual &lt;int&gt; | Sample Type &lt;dbl&gt; |\n",
       "|---|---|---|\n",
       "| 1301 | 21 | 1 |\n",
       "| 1302 | 22 | 1 |\n",
       "| 1303 | 23 | 1 |\n",
       "| 1304 | 24 | 1 |\n",
       "| 1305 | 25 | 1 |\n",
       "| 1306 | 26 | 1 |\n",
       "\n"
      ],
      "text/plain": [
       "  Sample Individual Sample Type\n",
       "1 1301   21         1          \n",
       "2 1302   22         1          \n",
       "3 1303   23         1          \n",
       "4 1304   24         1          \n",
       "5 1305   25         1          \n",
       "6 1306   26         1          "
      ]
     },
     "metadata": {},
     "output_type": "display_data"
    }
   ],
   "source": [
    "df_metadata <- data.frame(Sample, Individual, sample_type_rdol)\n",
    "colnames(df_metadata)[3] <- \"Sample Type\"\n",
    "colnames(df_metadata)[2] <- \"Individual\"\n",
    "colnames(df_metadata)[1] <- \"Sample\"\n",
    "head(df_metadata)"
   ]
  },
  {
   "cell_type": "code",
   "execution_count": 7,
   "metadata": {},
   "outputs": [],
   "source": [
    "if (grepl(' ', case_label, fixed = TRUE)){\n",
    "    case_label <- gsub(\" \", \"_\", case_label)\n",
    "}\n",
    "if (grepl('-', case_label, fixed = TRUE)){\n",
    "    case_label <- gsub(\"-\", \"_\", case_label)\n",
    "}\n",
    "if (grepl('-', case_label, fixed = TRUE)){\n",
    "    control_label <- gsub(\"-\", \"_\", control_label)\n",
    "}\n",
    "if (grepl(' ', control_label, fixed = TRUE)){\n",
    "    control_label <- gsub(\" \", \"_\", control_label)\n",
    "}"
   ]
  },
  {
   "cell_type": "code",
   "execution_count": 8,
   "metadata": {},
   "outputs": [],
   "source": [
    "metadata_rdolphin_path <- paste(setwd_path, data_set_root_dir, '/output/', data_set_root_dir,\n",
    "                       '_metadata_', case_label, '_vs_', control_label, '.csv', sep='')\n",
    "write.csv(df_metadata, file= metadata_rdolphin_path, row.names=FALSE)"
   ]
  },
  {
   "cell_type": "code",
   "execution_count": 9,
   "metadata": {},
   "outputs": [],
   "source": [
    "sample_type <- tools::toTitleCase(sample_type)\n",
    "bin_width <- as.numeric(substring((colnames(nmr_w_labels)[2]), 2)) - as.numeric(substring((colnames(nmr_w_labels)[3]), 2))"
   ]
  },
  {
   "cell_type": "markdown",
   "metadata": {},
   "source": [
    "## Create Parameters.csv for rDolphin"
   ]
  },
  {
   "cell_type": "code",
   "execution_count": 10,
   "metadata": {},
   "outputs": [],
   "source": [
    "# note to self, at the send of each step, open a txt file that contains the dir of the \n",
    "\n",
    "Parameter = c('nmr folder path','1D data index','proc_no','spectra dataset path (csv format)',\n",
    "              'Metadata path (csv format)','ROI patterns file',\n",
    "              'Normalization (0=No;1=Eretic; 2=TSP; 3=Creatinine; 4=Spectra Sum; 5=PQN)',\n",
    "              'Alignment (0=No;1=Glucose; 2=TSP; 3=Formate)',\n",
    "              'Suppression',\n",
    "              'Spectrometer Frequency (MHz)',\n",
    "              'Bucket resolution',\n",
    "              'Biofluid',\n",
    "              '2D-Path',\n",
    "              'Specific program parameters')\n",
    "Value = c('','','',rDolphin_nmr_input_path_E_NP_D_nanoparticle_vs_control, metadata_rdolphin_path,\n",
    "          filtered_ROI_path_E_NP_D_nanoparticle_vs_control,\n",
    "          0,0,'',699.87,bin_width,\n",
    "          sample_type, '', '')"
   ]
  },
  {
   "cell_type": "code",
   "execution_count": 18,
   "metadata": {},
   "outputs": [
    {
     "data": {
      "text/html": [
       "'/Users/morris/Box/Hall_Lab/Projects/HUNA/MTBLS430/output/MTBLS430_filtered_ROIE-NP-D_nanoparticle_vs_control.csv'"
      ],
      "text/latex": [
       "'/Users/morris/Box/Hall\\_Lab/Projects/HUNA/MTBLS430/output/MTBLS430\\_filtered\\_ROIE-NP-D\\_nanoparticle\\_vs\\_control.csv'"
      ],
      "text/markdown": [
       "'/Users/morris/Box/Hall_Lab/Projects/HUNA/MTBLS430/output/MTBLS430_filtered_ROIE-NP-D_nanoparticle_vs_control.csv'"
      ],
      "text/plain": [
       "[1] \"/Users/morris/Box/Hall_Lab/Projects/HUNA/MTBLS430/output/MTBLS430_filtered_ROIE-NP-D_nanoparticle_vs_control.csv\""
      ]
     },
     "metadata": {},
     "output_type": "display_data"
    }
   ],
   "source": [
    "filtered_ROI_path_E_NP_D_nanoparticle_vs_control"
   ]
  },
  {
   "cell_type": "code",
   "execution_count": 12,
   "metadata": {},
   "outputs": [],
   "source": [
    "df = data.frame(Parameter, Value)\n",
    "parameters_rdolphin_path <- paste(setwd_path, data_set_root_dir, '/input/', data_set_root_dir,\n",
    "                                  '_', case_label, '_vs_', control_label,'_rdolphin_parameters',\n",
    "                                  '.csv'\n",
    "                                  , sep='')\n",
    "write.csv(df, file= parameters_rdolphin_path, row.names=FALSE)"
   ]
  },
  {
   "cell_type": "markdown",
   "metadata": {},
   "source": [
    "## Create R script to Run rDolphin"
   ]
  },
  {
   "cell_type": "code",
   "execution_count": 13,
   "metadata": {},
   "outputs": [],
   "source": [
    "one <- 'library(rDolphin)\n",
    "print(\"rDolphin Loaded\")\n",
    "print(\"working directory set\")\n",
    "setwd(\"'\n",
    "#the working directory would go here\n",
    "two <- '\")\n",
    "'\n",
    "three <- 'imported_data = import_data(\"'\n",
    "# add the data_set_root_dir only\n",
    "three_2 <- '/input/'\n",
    "# add the data_set_root_dir only\n",
    "four <- '_rdolphin_parameters.csv\")\n",
    "print(\"imported data successfully\")\n",
    "median_plot = median_plot(imported_data)\n",
    "print(\"median plot processed successfully\")\n",
    "profiling_data = automatic_profiling(imported_data, imported_data$ROI_data)\n",
    "print(\"*****************************\")\n",
    "print(\"*******Profiling Done********\")\n",
    "print(\"*****************************\")'\n",
    "\n",
    "five <- 'write_info(\"/'\n",
    "# add the data_set_root_dir only\n",
    "\n",
    "six <- '/output/rDolphin\", profiling_data$final_output, imported_data$ROI_data)\n",
    "print(\"writing info successfully\")'\n",
    "\n",
    "seven <- 'save(imported_data, profiling_data, file = \"/'\n",
    "# add the data_set_root_dir only\n",
    "\n",
    "eight <- '/output/rDolphin/'\n",
    "# add the data_set_root_dir only\n",
    "nine <- '_Cohen_ROI_profiling.RData\")\n",
    "print(\"saved R session profile data.\")'"
   ]
  },
  {
   "cell_type": "code",
   "execution_count": 14,
   "metadata": {},
   "outputs": [],
   "source": [
    "rDolphin_Rscript <- paste(one, setwd_path, two, three, data_set_root_dir, three_2,\n",
    "                          data_set_root_dir, '_', case_label, '_vs_', control_label,\n",
    "                          four, five, data_set_root_dir, six,\n",
    "                          seven, data_set_root_dir, eight,\n",
    "                          data_set_root_dir, nine, sep='')"
   ]
  },
  {
   "cell_type": "code",
   "execution_count": 15,
   "metadata": {},
   "outputs": [
    {
     "name": "stdout",
     "output_type": "stream",
     "text": [
      "[1] \"library(rDolphin)\\nprint(\\\"rDolphin Loaded\\\")\\nprint(\\\"working directory set\\\")\\nsetwd(\\\"/Users/morris/Box/Hall_Lab/Projects/HUNA/\\\")\\nimported_data = import_data(\\\"MTBLS430/input/MTBLS430_E_NP_D_nanoparticle_vs_control_rdolphin_parameters.csv\\\")\\nprint(\\\"imported data successfully\\\")\\nmedian_plot = median_plot(imported_data)\\nprint(\\\"median plot processed successfully\\\")\\nprofiling_data = automatic_profiling(imported_data, imported_data$ROI_data)\\nprint(\\\"*****************************\\\")\\nprint(\\\"*******Profiling Done********\\\")\\nprint(\\\"*****************************\\\")write_info(\\\"/MTBLS430/output/rDolphin\\\", profiling_data$final_output, imported_data$ROI_data)\\nprint(\\\"writing info successfully\\\")save(imported_data, profiling_data, file = \\\"/MTBLS430/output/rDolphin/MTBLS430_Cohen_ROI_profiling.RData\\\")\\nprint(\\\"saved R session profile data.\\\")\"\n"
     ]
    }
   ],
   "source": [
    "print(rDolphin_Rscript)"
   ]
  },
  {
   "cell_type": "code",
   "execution_count": 16,
   "metadata": {},
   "outputs": [
    {
     "name": "stdout",
     "output_type": "stream",
     "text": [
      "[1] \"/Users/morris/Box/Hall_Lab/Projects/HUNA/MTBLS430/scripts/MTBLS430_rDolphin_Script_E_NP_D_nanoparticle_vs_control.R\"\n"
     ]
    }
   ],
   "source": [
    "Rscript_path <- paste(setwd_path, data_set_root_dir,'/scripts/', data_set_root_dir,\n",
    "                      '_rDolphin_Script_',\n",
    "                      case_label, '_vs_', control_label,'.R',\n",
    "                      sep='')\n",
    "print(Rscript_path)"
   ]
  },
  {
   "cell_type": "code",
   "execution_count": 17,
   "metadata": {},
   "outputs": [],
   "source": [
    "fileConn<-file(paste(Rscript_path,sep=''))\n",
    "writeLines(c(rDolphin_Rscript), fileConn)\n",
    "close(fileConn)"
   ]
  },
  {
   "cell_type": "code",
   "execution_count": null,
   "metadata": {},
   "outputs": [],
   "source": []
  }
 ],
 "metadata": {
  "kernelspec": {
   "display_name": "R",
   "language": "R",
   "name": "ir"
  },
  "language_info": {
   "codemirror_mode": "r",
   "file_extension": ".r",
   "mimetype": "text/x-r-source",
   "name": "R",
   "pygments_lexer": "r",
   "version": "3.6.3"
  }
 },
 "nbformat": 4,
 "nbformat_minor": 2
}
